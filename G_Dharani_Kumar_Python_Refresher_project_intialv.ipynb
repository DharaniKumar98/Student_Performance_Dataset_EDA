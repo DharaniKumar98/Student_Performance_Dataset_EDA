{
 "cells": [
  {
   "cell_type": "markdown",
   "id": "b38fedb7",
   "metadata": {},
   "source": [
    "# Students Performance Dataset"
   ]
  },
  {
   "cell_type": "markdown",
   "id": "8adebac8",
   "metadata": {},
   "source": [
    "## Introduction"
   ]
  },
  {
   "cell_type": "markdown",
   "id": "c42ecdef",
   "metadata": {},
   "source": [
    "This data approaches student achievement in secondary education of two Portuguese schools.\n",
    "\n",
    "The data attributes include student grades, demographic, social and school related features) and it was collected by using school reports and questionnaires. \n",
    "Two datasets are provided regarding the performance in two distinct subjects: Mathematics (mat) and Portuguese language (por).\n",
    "\n"
   ]
  },
  {
   "cell_type": "markdown",
   "id": "fa2d536e",
   "metadata": {},
   "source": [
    "# Description of Attributes in the Dataset"
   ]
  },
  {
   "cell_type": "markdown",
   "id": "4784cc3d",
   "metadata": {},
   "source": [
    "school :  student's school (binary: \"GP\" :  Gabriel Pereira or \"MS\" :  Mousinho da Silveira)\n",
    "\n",
    "sex :  student's sex (binary: \"F\" :  female or \"M\" :  male)\n",
    "\n",
    "age :  student's age (numeric: from 15 to 22)\n",
    "\n",
    "address :  student's home address type (binary: \"U\" :  urban or \"R\" :  rural)\n",
    "\n",
    "famsize :  family size (binary: \"LE3\" :  less or equal to 3 or \"GT3\" :  greater than 3)\n",
    "\n",
    "Pstatus :  parent's cohabitation status (binary: \"T\" :  living together or \"A\" :  apart)\n",
    "\n",
    "Medu :  mother's education (numeric: 0 :  none,  1 :  primary education (4th grade), 2 : 5th to 9th grade, 3 : secondary education or 4: higher education)\n",
    "\n",
    "Fedu :  father's education (numeric: 0 :  none,  1 :  primary education (4th grade), 2 : 5th to 9th grade, 3 : secondary education or 4 : higher education)\n",
    "\n",
    "Mjob :  mother's job (nominal: \"teacher\", \"health\" care related, civil \"services\" (e.g. administrative or police), \"at_home\" or \"other\")\n",
    "\n",
    "Fjob :  father's job (nominal: \"teacher\", \"health\" care related, civil \"services\" (e.g. administrative or police), \"at_home\" or \"other\")\n",
    "\n",
    "reason :  reason to choose this school (nominal: close to \"home\", school \"reputation\", \"course\" preference or \"other\")\n",
    "\n",
    "guardian :  student's guardian (nominal: \"mother\", \"father\" or \"other\")\n",
    "\n",
    "traveltime :  home to school travel time (numeric: 1 :  <15 min., 2 :  15 to 30 min., 3 :  30 min. to 1 hour, or 4 :  >1 hour)\n",
    "\n",
    "studytime :  weekly study time (numeric: 1 :  <2 hours, 2 :  2 to 5 hours, 3 :  5 to 10 hours, or 4 :  >10 hours)\n",
    "\n",
    "failures :  number of past class failures (numeric: n if 1<=n<3, else 4)\n",
    "\n",
    "schoolsup :  extra educational support (binary: yes or no)\n",
    "\n",
    "famsup :  family educational support (binary: yes or no)\n",
    "\n",
    "paid :  extra paid classes within the course subject (Math or Portuguese) (binary: yes or no)\n",
    "\n",
    "activities :  extra: curricular activities (binary: yes or no)\n",
    "\n",
    "nursery :  attended nursery school (binary: yes or no)\n",
    "\n",
    "higher :  wants to take higher education (binary: yes or no)\n",
    "\n",
    "internet :  Internet access at home (binary: yes or no)\n",
    "\n",
    "romantic :  with a romantic relationship (binary: yes or no)\n",
    "\n",
    "famrel :  quality of family relationships (numeric: from 1 :  very bad to 5 :  excellent)\n",
    "\n",
    "freetime :  free time after school (numeric: from 1 :  very low to 5 :  very high)\n",
    "\n",
    "goout :  going out with friends (numeric: from 1 :  very low to 5 :  very high)\n",
    "\n",
    "Dalc :  workday alcohol consumption (numeric: from 1 :  very low to 5 :  very high)\n",
    "\n",
    "Walc :  weekend alcohol consumption (numeric: from 1 :  very low to 5 :  very high)\n",
    "\n",
    "health :  current health status (numeric: from 1 :  very bad to 5 :  very good)\n",
    "\n",
    "absences :  number of school absences (numeric: from 0 to 93)\n",
    "\n",
    "Grade attributes:\n",
    "\n",
    "G1 :  first period grade (numeric: from 0 to 20)\n",
    "\n",
    "G2 :  second period grade (numeric: from 0 to 20)\n",
    "\n",
    "G3 :  final grade (numeric: from 0 to 20, output target)\n"
   ]
  },
  {
   "cell_type": "markdown",
   "id": "d22d6eb3",
   "metadata": {},
   "source": [
    "### Importing required modules"
   ]
  },
  {
   "cell_type": "code",
   "execution_count": 1,
   "id": "0aa933f3",
   "metadata": {},
   "outputs": [],
   "source": [
    "import pandas as pd\n",
    "import numpy as np\n",
    "import seaborn as sns\n",
    "import matplotlib.pyplot as plt\n",
    "import re"
   ]
  },
  {
   "cell_type": "markdown",
   "id": "282a1460",
   "metadata": {},
   "source": [
    "### Loading the dataset using pandas"
   ]
  },
  {
   "cell_type": "code",
   "execution_count": 2,
   "id": "7d711060",
   "metadata": {},
   "outputs": [],
   "source": [
    "student_mat = pd.read_csv(r'F:\\Python\\Datasets\\student-mat.csv',sep=';')"
   ]
  },
  {
   "cell_type": "markdown",
   "id": "54dc130e",
   "metadata": {},
   "source": [
    "### Exploring Data"
   ]
  },
  {
   "cell_type": "code",
   "execution_count": 3,
   "id": "dd96bc82",
   "metadata": {},
   "outputs": [
    {
     "data": {
      "text/plain": [
       "(395, 33)"
      ]
     },
     "execution_count": 3,
     "metadata": {},
     "output_type": "execute_result"
    }
   ],
   "source": [
    "student_mat.shape"
   ]
  },
  {
   "cell_type": "markdown",
   "id": "df4d5ba5",
   "metadata": {},
   "source": [
    "* Number records match with the original data i.e., the dataset has 33 columns & 395 observations in it."
   ]
  },
  {
   "cell_type": "code",
   "execution_count": 15,
   "id": "47346485",
   "metadata": {},
   "outputs": [
    {
     "data": {
      "text/html": [
       "<div>\n",
       "<style scoped>\n",
       "    .dataframe tbody tr th:only-of-type {\n",
       "        vertical-align: middle;\n",
       "    }\n",
       "\n",
       "    .dataframe tbody tr th {\n",
       "        vertical-align: top;\n",
       "    }\n",
       "\n",
       "    .dataframe thead th {\n",
       "        text-align: right;\n",
       "    }\n",
       "</style>\n",
       "<table border=\"1\" class=\"dataframe\">\n",
       "  <thead>\n",
       "    <tr style=\"text-align: right;\">\n",
       "      <th></th>\n",
       "      <th>school</th>\n",
       "      <th>sex</th>\n",
       "      <th>age</th>\n",
       "      <th>address</th>\n",
       "      <th>famsize</th>\n",
       "      <th>Pstatus</th>\n",
       "      <th>Medu</th>\n",
       "      <th>Fedu</th>\n",
       "      <th>Mjob</th>\n",
       "      <th>Fjob</th>\n",
       "      <th>...</th>\n",
       "      <th>famrel</th>\n",
       "      <th>freetime</th>\n",
       "      <th>goout</th>\n",
       "      <th>Dalc</th>\n",
       "      <th>Walc</th>\n",
       "      <th>health</th>\n",
       "      <th>absences</th>\n",
       "      <th>G1</th>\n",
       "      <th>G2</th>\n",
       "      <th>G3</th>\n",
       "    </tr>\n",
       "  </thead>\n",
       "  <tbody>\n",
       "    <tr>\n",
       "      <th>0</th>\n",
       "      <td>GP</td>\n",
       "      <td>F</td>\n",
       "      <td>18</td>\n",
       "      <td>U</td>\n",
       "      <td>GT3</td>\n",
       "      <td>A</td>\n",
       "      <td>4</td>\n",
       "      <td>4</td>\n",
       "      <td>at_home</td>\n",
       "      <td>teacher</td>\n",
       "      <td>...</td>\n",
       "      <td>4</td>\n",
       "      <td>3</td>\n",
       "      <td>4</td>\n",
       "      <td>1</td>\n",
       "      <td>1</td>\n",
       "      <td>3</td>\n",
       "      <td>6</td>\n",
       "      <td>5</td>\n",
       "      <td>6</td>\n",
       "      <td>6</td>\n",
       "    </tr>\n",
       "    <tr>\n",
       "      <th>1</th>\n",
       "      <td>GP</td>\n",
       "      <td>F</td>\n",
       "      <td>17</td>\n",
       "      <td>U</td>\n",
       "      <td>GT3</td>\n",
       "      <td>T</td>\n",
       "      <td>1</td>\n",
       "      <td>1</td>\n",
       "      <td>at_home</td>\n",
       "      <td>other</td>\n",
       "      <td>...</td>\n",
       "      <td>5</td>\n",
       "      <td>3</td>\n",
       "      <td>3</td>\n",
       "      <td>1</td>\n",
       "      <td>1</td>\n",
       "      <td>3</td>\n",
       "      <td>4</td>\n",
       "      <td>5</td>\n",
       "      <td>5</td>\n",
       "      <td>6</td>\n",
       "    </tr>\n",
       "    <tr>\n",
       "      <th>2</th>\n",
       "      <td>GP</td>\n",
       "      <td>F</td>\n",
       "      <td>15</td>\n",
       "      <td>U</td>\n",
       "      <td>LE3</td>\n",
       "      <td>T</td>\n",
       "      <td>1</td>\n",
       "      <td>1</td>\n",
       "      <td>at_home</td>\n",
       "      <td>other</td>\n",
       "      <td>...</td>\n",
       "      <td>4</td>\n",
       "      <td>3</td>\n",
       "      <td>2</td>\n",
       "      <td>2</td>\n",
       "      <td>3</td>\n",
       "      <td>3</td>\n",
       "      <td>10</td>\n",
       "      <td>7</td>\n",
       "      <td>8</td>\n",
       "      <td>10</td>\n",
       "    </tr>\n",
       "    <tr>\n",
       "      <th>3</th>\n",
       "      <td>GP</td>\n",
       "      <td>F</td>\n",
       "      <td>15</td>\n",
       "      <td>U</td>\n",
       "      <td>GT3</td>\n",
       "      <td>T</td>\n",
       "      <td>4</td>\n",
       "      <td>2</td>\n",
       "      <td>health</td>\n",
       "      <td>services</td>\n",
       "      <td>...</td>\n",
       "      <td>3</td>\n",
       "      <td>2</td>\n",
       "      <td>2</td>\n",
       "      <td>1</td>\n",
       "      <td>1</td>\n",
       "      <td>5</td>\n",
       "      <td>2</td>\n",
       "      <td>15</td>\n",
       "      <td>14</td>\n",
       "      <td>15</td>\n",
       "    </tr>\n",
       "    <tr>\n",
       "      <th>4</th>\n",
       "      <td>GP</td>\n",
       "      <td>F</td>\n",
       "      <td>16</td>\n",
       "      <td>U</td>\n",
       "      <td>GT3</td>\n",
       "      <td>T</td>\n",
       "      <td>3</td>\n",
       "      <td>3</td>\n",
       "      <td>other</td>\n",
       "      <td>other</td>\n",
       "      <td>...</td>\n",
       "      <td>4</td>\n",
       "      <td>3</td>\n",
       "      <td>2</td>\n",
       "      <td>1</td>\n",
       "      <td>2</td>\n",
       "      <td>5</td>\n",
       "      <td>4</td>\n",
       "      <td>6</td>\n",
       "      <td>10</td>\n",
       "      <td>10</td>\n",
       "    </tr>\n",
       "  </tbody>\n",
       "</table>\n",
       "<p>5 rows × 33 columns</p>\n",
       "</div>"
      ],
      "text/plain": [
       "  school sex  age address famsize Pstatus  Medu  Fedu     Mjob      Fjob  ...  \\\n",
       "0     GP   F   18       U     GT3       A     4     4  at_home   teacher  ...   \n",
       "1     GP   F   17       U     GT3       T     1     1  at_home     other  ...   \n",
       "2     GP   F   15       U     LE3       T     1     1  at_home     other  ...   \n",
       "3     GP   F   15       U     GT3       T     4     2   health  services  ...   \n",
       "4     GP   F   16       U     GT3       T     3     3    other     other  ...   \n",
       "\n",
       "  famrel freetime  goout  Dalc  Walc health absences  G1  G2  G3  \n",
       "0      4        3      4     1     1      3        6   5   6   6  \n",
       "1      5        3      3     1     1      3        4   5   5   6  \n",
       "2      4        3      2     2     3      3       10   7   8  10  \n",
       "3      3        2      2     1     1      5        2  15  14  15  \n",
       "4      4        3      2     1     2      5        4   6  10  10  \n",
       "\n",
       "[5 rows x 33 columns]"
      ]
     },
     "metadata": {},
     "output_type": "display_data"
    },
    {
     "data": {
      "text/html": [
       "<div>\n",
       "<style scoped>\n",
       "    .dataframe tbody tr th:only-of-type {\n",
       "        vertical-align: middle;\n",
       "    }\n",
       "\n",
       "    .dataframe tbody tr th {\n",
       "        vertical-align: top;\n",
       "    }\n",
       "\n",
       "    .dataframe thead th {\n",
       "        text-align: right;\n",
       "    }\n",
       "</style>\n",
       "<table border=\"1\" class=\"dataframe\">\n",
       "  <thead>\n",
       "    <tr style=\"text-align: right;\">\n",
       "      <th></th>\n",
       "      <th>school</th>\n",
       "      <th>sex</th>\n",
       "      <th>age</th>\n",
       "      <th>address</th>\n",
       "      <th>famsize</th>\n",
       "      <th>Pstatus</th>\n",
       "      <th>Medu</th>\n",
       "      <th>Fedu</th>\n",
       "      <th>Mjob</th>\n",
       "      <th>Fjob</th>\n",
       "      <th>...</th>\n",
       "      <th>famrel</th>\n",
       "      <th>freetime</th>\n",
       "      <th>goout</th>\n",
       "      <th>Dalc</th>\n",
       "      <th>Walc</th>\n",
       "      <th>health</th>\n",
       "      <th>absences</th>\n",
       "      <th>G1</th>\n",
       "      <th>G2</th>\n",
       "      <th>G3</th>\n",
       "    </tr>\n",
       "  </thead>\n",
       "  <tbody>\n",
       "    <tr>\n",
       "      <th>390</th>\n",
       "      <td>MS</td>\n",
       "      <td>M</td>\n",
       "      <td>20</td>\n",
       "      <td>U</td>\n",
       "      <td>LE3</td>\n",
       "      <td>A</td>\n",
       "      <td>2</td>\n",
       "      <td>2</td>\n",
       "      <td>services</td>\n",
       "      <td>services</td>\n",
       "      <td>...</td>\n",
       "      <td>5</td>\n",
       "      <td>5</td>\n",
       "      <td>4</td>\n",
       "      <td>4</td>\n",
       "      <td>5</td>\n",
       "      <td>4</td>\n",
       "      <td>11</td>\n",
       "      <td>9</td>\n",
       "      <td>9</td>\n",
       "      <td>9</td>\n",
       "    </tr>\n",
       "    <tr>\n",
       "      <th>391</th>\n",
       "      <td>MS</td>\n",
       "      <td>M</td>\n",
       "      <td>17</td>\n",
       "      <td>U</td>\n",
       "      <td>LE3</td>\n",
       "      <td>T</td>\n",
       "      <td>3</td>\n",
       "      <td>1</td>\n",
       "      <td>services</td>\n",
       "      <td>services</td>\n",
       "      <td>...</td>\n",
       "      <td>2</td>\n",
       "      <td>4</td>\n",
       "      <td>5</td>\n",
       "      <td>3</td>\n",
       "      <td>4</td>\n",
       "      <td>2</td>\n",
       "      <td>3</td>\n",
       "      <td>14</td>\n",
       "      <td>16</td>\n",
       "      <td>16</td>\n",
       "    </tr>\n",
       "    <tr>\n",
       "      <th>392</th>\n",
       "      <td>MS</td>\n",
       "      <td>M</td>\n",
       "      <td>21</td>\n",
       "      <td>R</td>\n",
       "      <td>GT3</td>\n",
       "      <td>T</td>\n",
       "      <td>1</td>\n",
       "      <td>1</td>\n",
       "      <td>other</td>\n",
       "      <td>other</td>\n",
       "      <td>...</td>\n",
       "      <td>5</td>\n",
       "      <td>5</td>\n",
       "      <td>3</td>\n",
       "      <td>3</td>\n",
       "      <td>3</td>\n",
       "      <td>3</td>\n",
       "      <td>3</td>\n",
       "      <td>10</td>\n",
       "      <td>8</td>\n",
       "      <td>7</td>\n",
       "    </tr>\n",
       "    <tr>\n",
       "      <th>393</th>\n",
       "      <td>MS</td>\n",
       "      <td>M</td>\n",
       "      <td>18</td>\n",
       "      <td>R</td>\n",
       "      <td>LE3</td>\n",
       "      <td>T</td>\n",
       "      <td>3</td>\n",
       "      <td>2</td>\n",
       "      <td>services</td>\n",
       "      <td>other</td>\n",
       "      <td>...</td>\n",
       "      <td>4</td>\n",
       "      <td>4</td>\n",
       "      <td>1</td>\n",
       "      <td>3</td>\n",
       "      <td>4</td>\n",
       "      <td>5</td>\n",
       "      <td>0</td>\n",
       "      <td>11</td>\n",
       "      <td>12</td>\n",
       "      <td>10</td>\n",
       "    </tr>\n",
       "    <tr>\n",
       "      <th>394</th>\n",
       "      <td>MS</td>\n",
       "      <td>M</td>\n",
       "      <td>19</td>\n",
       "      <td>U</td>\n",
       "      <td>LE3</td>\n",
       "      <td>T</td>\n",
       "      <td>1</td>\n",
       "      <td>1</td>\n",
       "      <td>other</td>\n",
       "      <td>at_home</td>\n",
       "      <td>...</td>\n",
       "      <td>3</td>\n",
       "      <td>2</td>\n",
       "      <td>3</td>\n",
       "      <td>3</td>\n",
       "      <td>3</td>\n",
       "      <td>5</td>\n",
       "      <td>5</td>\n",
       "      <td>8</td>\n",
       "      <td>9</td>\n",
       "      <td>9</td>\n",
       "    </tr>\n",
       "  </tbody>\n",
       "</table>\n",
       "<p>5 rows × 33 columns</p>\n",
       "</div>"
      ],
      "text/plain": [
       "    school sex  age address famsize Pstatus  Medu  Fedu      Mjob      Fjob  \\\n",
       "390     MS   M   20       U     LE3       A     2     2  services  services   \n",
       "391     MS   M   17       U     LE3       T     3     1  services  services   \n",
       "392     MS   M   21       R     GT3       T     1     1     other     other   \n",
       "393     MS   M   18       R     LE3       T     3     2  services     other   \n",
       "394     MS   M   19       U     LE3       T     1     1     other   at_home   \n",
       "\n",
       "     ... famrel freetime  goout  Dalc  Walc health absences  G1  G2  G3  \n",
       "390  ...      5        5      4     4     5      4       11   9   9   9  \n",
       "391  ...      2        4      5     3     4      2        3  14  16  16  \n",
       "392  ...      5        5      3     3     3      3        3  10   8   7  \n",
       "393  ...      4        4      1     3     4      5        0  11  12  10  \n",
       "394  ...      3        2      3     3     3      5        5   8   9   9  \n",
       "\n",
       "[5 rows x 33 columns]"
      ]
     },
     "metadata": {},
     "output_type": "display_data"
    }
   ],
   "source": [
    "display(student_mat.head(),student_mat.tail())"
   ]
  },
  {
   "cell_type": "markdown",
   "id": "56db7d65",
   "metadata": {},
   "source": [
    "* understanding the format of data in the columns using head & tail functions of pandas"
   ]
  },
  {
   "cell_type": "code",
   "execution_count": 6,
   "id": "a773f16b",
   "metadata": {},
   "outputs": [
    {
     "data": {
      "text/plain": [
       "Index(['school', 'sex', 'age', 'address', 'famsize', 'Pstatus', 'Medu', 'Fedu',\n",
       "       'Mjob', 'Fjob', 'reason', 'guardian', 'traveltime', 'studytime',\n",
       "       'failures', 'schoolsup', 'famsup', 'paid', 'activities', 'nursery',\n",
       "       'higher', 'internet', 'romantic', 'famrel', 'freetime', 'goout', 'Dalc',\n",
       "       'Walc', 'health', 'absences', 'G1', 'G2', 'G3'],\n",
       "      dtype='object')"
      ]
     },
     "execution_count": 6,
     "metadata": {},
     "output_type": "execute_result"
    }
   ],
   "source": [
    "student_mat.columns"
   ]
  },
  {
   "cell_type": "markdown",
   "id": "3d509b77",
   "metadata": {},
   "source": [
    "*  list of column names of the dataset"
   ]
  },
  {
   "cell_type": "code",
   "execution_count": 7,
   "id": "15051594",
   "metadata": {},
   "outputs": [
    {
     "name": "stdout",
     "output_type": "stream",
     "text": [
      "<class 'pandas.core.frame.DataFrame'>\n",
      "RangeIndex: 395 entries, 0 to 394\n",
      "Data columns (total 33 columns):\n",
      " #   Column      Non-Null Count  Dtype \n",
      "---  ------      --------------  ----- \n",
      " 0   school      395 non-null    object\n",
      " 1   sex         395 non-null    object\n",
      " 2   age         395 non-null    int64 \n",
      " 3   address     395 non-null    object\n",
      " 4   famsize     395 non-null    object\n",
      " 5   Pstatus     395 non-null    object\n",
      " 6   Medu        395 non-null    int64 \n",
      " 7   Fedu        395 non-null    int64 \n",
      " 8   Mjob        395 non-null    object\n",
      " 9   Fjob        395 non-null    object\n",
      " 10  reason      395 non-null    object\n",
      " 11  guardian    395 non-null    object\n",
      " 12  traveltime  395 non-null    int64 \n",
      " 13  studytime   395 non-null    int64 \n",
      " 14  failures    395 non-null    int64 \n",
      " 15  schoolsup   395 non-null    object\n",
      " 16  famsup      395 non-null    object\n",
      " 17  paid        395 non-null    object\n",
      " 18  activities  395 non-null    object\n",
      " 19  nursery     395 non-null    object\n",
      " 20  higher      395 non-null    object\n",
      " 21  internet    395 non-null    object\n",
      " 22  romantic    395 non-null    object\n",
      " 23  famrel      395 non-null    int64 \n",
      " 24  freetime    395 non-null    int64 \n",
      " 25  goout       395 non-null    int64 \n",
      " 26  Dalc        395 non-null    int64 \n",
      " 27  Walc        395 non-null    int64 \n",
      " 28  health      395 non-null    int64 \n",
      " 29  absences    395 non-null    int64 \n",
      " 30  G1          395 non-null    int64 \n",
      " 31  G2          395 non-null    int64 \n",
      " 32  G3          395 non-null    int64 \n",
      "dtypes: int64(16), object(17)\n",
      "memory usage: 102.0+ KB\n"
     ]
    }
   ],
   "source": [
    "student_mat.info()# Medu , Fedu , "
   ]
  },
  {
   "cell_type": "markdown",
   "id": "b29d8392",
   "metadata": {},
   "source": [
    "* There are no missing & Null values in the data.\n",
    "\n",
    "\n",
    "* Apart from age,failures,absences,G1,G2,G3 all other columns in the dataset are categorial data columns.\n",
    "\n",
    "\n",
    "* The columns with headers Medu, Fedu,traveltime,studytime,famrel,freetime,goout,Dalc,Walc,health are encoded in their respective methods.\n",
    "\n",
    "\n",
    "* For the purpose of analysis it is good to create decoded columns(containing the categorical data) of the above mentioned encoded columns."
   ]
  },
  {
   "cell_type": "code",
   "execution_count": 11,
   "id": "16557f91",
   "metadata": {},
   "outputs": [
    {
     "data": {
      "text/plain": [
       "school         2\n",
       "sex            2\n",
       "age            8\n",
       "address        2\n",
       "famsize        2\n",
       "Pstatus        2\n",
       "Medu           5\n",
       "Fedu           5\n",
       "Mjob           5\n",
       "Fjob           5\n",
       "reason         4\n",
       "guardian       3\n",
       "traveltime     4\n",
       "studytime      4\n",
       "failures       4\n",
       "schoolsup      2\n",
       "famsup         2\n",
       "paid           2\n",
       "activities     2\n",
       "nursery        2\n",
       "higher         2\n",
       "internet       2\n",
       "romantic       2\n",
       "famrel         5\n",
       "freetime       5\n",
       "goout          5\n",
       "Dalc           5\n",
       "Walc           5\n",
       "health         5\n",
       "absences      34\n",
       "G1            17\n",
       "G2            17\n",
       "G3            18\n",
       "dtype: int64"
      ]
     },
     "execution_count": 11,
     "metadata": {},
     "output_type": "execute_result"
    }
   ],
   "source": [
    "student_mat.nunique()"
   ]
  },
  {
   "cell_type": "markdown",
   "id": "bd43500b",
   "metadata": {},
   "source": [
    "* Above output shows count of unique values in each column "
   ]
  },
  {
   "cell_type": "code",
   "execution_count": 9,
   "id": "7a61ffd4",
   "metadata": {},
   "outputs": [
    {
     "name": "stdout",
     "output_type": "stream",
     "text": [
      "\n",
      "school\n",
      "['GP' 'MS']\n",
      "\n",
      "sex\n",
      "['F' 'M']\n",
      "\n",
      "age\n",
      "[18 17 15 16 19 22 20 21]\n",
      "\n",
      "address\n",
      "['U' 'R']\n",
      "\n",
      "famsize\n",
      "['GT3' 'LE3']\n",
      "\n",
      "Pstatus\n",
      "['A' 'T']\n",
      "\n",
      "Medu\n",
      "[4 1 3 2 0]\n",
      "\n",
      "Fedu\n",
      "[4 1 2 3 0]\n",
      "\n",
      "Mjob\n",
      "['at_home' 'health' 'other' 'services' 'teacher']\n",
      "\n",
      "Fjob\n",
      "['teacher' 'other' 'services' 'health' 'at_home']\n",
      "\n",
      "reason\n",
      "['course' 'other' 'home' 'reputation']\n",
      "\n",
      "guardian\n",
      "['mother' 'father' 'other']\n",
      "\n",
      "traveltime\n",
      "[2 1 3 4]\n",
      "\n",
      "studytime\n",
      "[2 3 1 4]\n",
      "\n",
      "failures\n",
      "[0 3 2 1]\n",
      "\n",
      "schoolsup\n",
      "['yes' 'no']\n",
      "\n",
      "famsup\n",
      "['no' 'yes']\n",
      "\n",
      "paid\n",
      "['no' 'yes']\n",
      "\n",
      "activities\n",
      "['no' 'yes']\n",
      "\n",
      "nursery\n",
      "['yes' 'no']\n",
      "\n",
      "higher\n",
      "['yes' 'no']\n",
      "\n",
      "internet\n",
      "['no' 'yes']\n",
      "\n",
      "romantic\n",
      "['no' 'yes']\n",
      "\n",
      "famrel\n",
      "[4 5 3 1 2]\n",
      "\n",
      "freetime\n",
      "[3 2 4 1 5]\n",
      "\n",
      "goout\n",
      "[4 3 2 1 5]\n",
      "\n",
      "Dalc\n",
      "[1 2 5 3 4]\n",
      "\n",
      "Walc\n",
      "[1 3 2 4 5]\n",
      "\n",
      "health\n",
      "[3 5 1 2 4]\n",
      "\n",
      "absences\n",
      "[ 6  4 10  2  0 16 14  7  8 25 12 54 18 26 20 56 24 28  5 13 15 22  3 21\n",
      "  1 75 30 19  9 11 38 40 23 17]\n",
      "\n",
      "G1\n",
      "[ 5  7 15  6 12 16 14 10 13  8 11  9 17 19 18  4  3]\n",
      "\n",
      "G2\n",
      "[ 6  5  8 14 10 15 12 18 16 13  9 11  7 19 17  4  0]\n",
      "\n",
      "G3\n",
      "[ 6 10 15 11 19  9 12 14 16  5  8 17 18 13 20  7  0  4]\n"
     ]
    }
   ],
   "source": [
    "for i in student_mat.columns:\n",
    "    print()\n",
    "    print(i)\n",
    "    print(student_mat[i].unique())"
   ]
  },
  {
   "cell_type": "markdown",
   "id": "f8688740",
   "metadata": {},
   "source": [
    "* understanding the different unique values in each column of the dataset"
   ]
  },
  {
   "cell_type": "code",
   "execution_count": 18,
   "id": "4945ef00",
   "metadata": {},
   "outputs": [
    {
     "name": "stdout",
     "output_type": "stream",
     "text": [
      "\n",
      "school\n",
      "GP    349\n",
      "MS     46\n",
      "Name: school, dtype: int64\n",
      "\n",
      "sex\n",
      "F    208\n",
      "M    187\n",
      "Name: sex, dtype: int64\n",
      "\n",
      "age\n",
      "16    104\n",
      "17     98\n",
      "18     82\n",
      "15     82\n",
      "19     24\n",
      "20      3\n",
      "22      1\n",
      "21      1\n",
      "Name: age, dtype: int64\n",
      "\n",
      "address\n",
      "U    307\n",
      "R     88\n",
      "Name: address, dtype: int64\n",
      "\n",
      "famsize\n",
      "GT3    281\n",
      "LE3    114\n",
      "Name: famsize, dtype: int64\n",
      "\n",
      "Pstatus\n",
      "T    354\n",
      "A     41\n",
      "Name: Pstatus, dtype: int64\n",
      "\n",
      "Medu\n",
      "4    131\n",
      "2    103\n",
      "3     99\n",
      "1     59\n",
      "0      3\n",
      "Name: Medu, dtype: int64\n",
      "\n",
      "Fedu\n",
      "2    115\n",
      "3    100\n",
      "4     96\n",
      "1     82\n",
      "0      2\n",
      "Name: Fedu, dtype: int64\n",
      "\n",
      "Mjob\n",
      "other       141\n",
      "services    103\n",
      "at_home      59\n",
      "teacher      58\n",
      "health       34\n",
      "Name: Mjob, dtype: int64\n",
      "\n",
      "Fjob\n",
      "other       217\n",
      "services    111\n",
      "teacher      29\n",
      "at_home      20\n",
      "health       18\n",
      "Name: Fjob, dtype: int64\n",
      "\n",
      "reason\n",
      "course        145\n",
      "home          109\n",
      "reputation    105\n",
      "other          36\n",
      "Name: reason, dtype: int64\n",
      "\n",
      "guardian\n",
      "mother    273\n",
      "father     90\n",
      "other      32\n",
      "Name: guardian, dtype: int64\n",
      "\n",
      "traveltime\n",
      "1    257\n",
      "2    107\n",
      "3     23\n",
      "4      8\n",
      "Name: traveltime, dtype: int64\n",
      "\n",
      "studytime\n",
      "2    198\n",
      "1    105\n",
      "3     65\n",
      "4     27\n",
      "Name: studytime, dtype: int64\n",
      "\n",
      "failures\n",
      "0    312\n",
      "1     50\n",
      "2     17\n",
      "3     16\n",
      "Name: failures, dtype: int64\n",
      "\n",
      "schoolsup\n",
      "no     344\n",
      "yes     51\n",
      "Name: schoolsup, dtype: int64\n",
      "\n",
      "famsup\n",
      "yes    242\n",
      "no     153\n",
      "Name: famsup, dtype: int64\n",
      "\n",
      "paid\n",
      "no     214\n",
      "yes    181\n",
      "Name: paid, dtype: int64\n",
      "\n",
      "activities\n",
      "yes    201\n",
      "no     194\n",
      "Name: activities, dtype: int64\n",
      "\n",
      "nursery\n",
      "yes    314\n",
      "no      81\n",
      "Name: nursery, dtype: int64\n",
      "\n",
      "higher\n",
      "yes    375\n",
      "no      20\n",
      "Name: higher, dtype: int64\n",
      "\n",
      "internet\n",
      "yes    329\n",
      "no      66\n",
      "Name: internet, dtype: int64\n",
      "\n",
      "romantic\n",
      "no     263\n",
      "yes    132\n",
      "Name: romantic, dtype: int64\n",
      "\n",
      "famrel\n",
      "4    195\n",
      "5    106\n",
      "3     68\n",
      "2     18\n",
      "1      8\n",
      "Name: famrel, dtype: int64\n",
      "\n",
      "freetime\n",
      "3    157\n",
      "4    115\n",
      "2     64\n",
      "5     40\n",
      "1     19\n",
      "Name: freetime, dtype: int64\n",
      "\n",
      "goout\n",
      "3    130\n",
      "2    103\n",
      "4     86\n",
      "5     53\n",
      "1     23\n",
      "Name: goout, dtype: int64\n",
      "\n",
      "Dalc\n",
      "1    276\n",
      "2     75\n",
      "3     26\n",
      "5      9\n",
      "4      9\n",
      "Name: Dalc, dtype: int64\n",
      "\n",
      "Walc\n",
      "1    151\n",
      "2     85\n",
      "3     80\n",
      "4     51\n",
      "5     28\n",
      "Name: Walc, dtype: int64\n",
      "\n",
      "health\n",
      "5    146\n",
      "3     91\n",
      "4     66\n",
      "1     47\n",
      "2     45\n",
      "Name: health, dtype: int64\n",
      "\n",
      "absences\n",
      "0     115\n",
      "2      65\n",
      "4      53\n",
      "6      31\n",
      "8      22\n",
      "10     17\n",
      "14     12\n",
      "12     12\n",
      "3       8\n",
      "16      7\n",
      "7       7\n",
      "5       5\n",
      "18      5\n",
      "20      4\n",
      "11      3\n",
      "9       3\n",
      "13      3\n",
      "15      3\n",
      "22      3\n",
      "1       3\n",
      "38      1\n",
      "30      1\n",
      "40      1\n",
      "23      1\n",
      "19      1\n",
      "28      1\n",
      "75      1\n",
      "21      1\n",
      "24      1\n",
      "56      1\n",
      "26      1\n",
      "54      1\n",
      "25      1\n",
      "17      1\n",
      "Name: absences, dtype: int64\n",
      "\n",
      "G1\n",
      "10    51\n",
      "8     41\n",
      "11    39\n",
      "7     37\n",
      "12    35\n",
      "13    33\n",
      "9     31\n",
      "14    30\n",
      "15    24\n",
      "6     24\n",
      "16    22\n",
      "18     8\n",
      "17     8\n",
      "5      7\n",
      "19     3\n",
      "4      1\n",
      "3      1\n",
      "Name: G1, dtype: int64\n",
      "\n",
      "G2\n",
      "9     50\n",
      "10    46\n",
      "12    41\n",
      "13    37\n",
      "11    35\n",
      "15    34\n",
      "8     32\n",
      "14    23\n",
      "7     21\n",
      "5     15\n",
      "6     14\n",
      "16    13\n",
      "0     13\n",
      "18    12\n",
      "17     5\n",
      "19     3\n",
      "4      1\n",
      "Name: G2, dtype: int64\n",
      "\n",
      "G3\n",
      "10    56\n",
      "11    47\n",
      "0     38\n",
      "15    33\n",
      "8     32\n",
      "13    31\n",
      "12    31\n",
      "9     28\n",
      "14    27\n",
      "16    16\n",
      "6     15\n",
      "18    12\n",
      "7      9\n",
      "5      7\n",
      "17     6\n",
      "19     5\n",
      "20     1\n",
      "4      1\n",
      "Name: G3, dtype: int64\n"
     ]
    }
   ],
   "source": [
    "for i in student_mat.columns:\n",
    "    print()\n",
    "    print(i)\n",
    "    print(student_mat[i].value_counts())"
   ]
  },
  {
   "cell_type": "markdown",
   "id": "31610fd9",
   "metadata": {},
   "source": [
    "* Understanding the count of each unique value of a respective column. "
   ]
  },
  {
   "cell_type": "markdown",
   "id": "96c62307",
   "metadata": {},
   "source": [
    "### Data Processing"
   ]
  },
  {
   "cell_type": "markdown",
   "id": "25cf6942",
   "metadata": {},
   "source": [
    "* Creating columns containing the categorical data of each encoded column for analysis purpose"
   ]
  },
  {
   "cell_type": "code",
   "execution_count": 17,
   "id": "c73f6dc0",
   "metadata": {},
   "outputs": [],
   "source": [
    "# Medu\n",
    "\n",
    "M_ed = {0:'None' , 1 : 'Till 4th grade', 2:'5th to 9th grade' , 3: 'secondary education' , 4 :'higher education'}\n",
    "student_mat['Medu_cat'] = student_mat['Medu'].apply(lambda x : M_ed[x] )"
   ]
  },
  {
   "cell_type": "code",
   "execution_count": 20,
   "id": "dd9fdcfc",
   "metadata": {},
   "outputs": [],
   "source": [
    "# Fedu\n",
    "\n",
    "F_ed = {0:'None' , 1 : 'Till 4th grade', 2:'5th to 9th grade' , 3: 'secondary education' , 4 :'higher education'}\n",
    "student_mat['Fedu_cat'] = student_mat['Fedu'].apply(lambda x : F_ed[x] )"
   ]
  },
  {
   "cell_type": "code",
   "execution_count": 22,
   "id": "e1306f8a",
   "metadata": {},
   "outputs": [],
   "source": [
    "# traveltime\n",
    "\n",
    "T_time = {1 : '< 15 min.', 2:'15 to 30 min.' , 3: '30 min. to 1 hour' , 4 :'>1 hour'}\n",
    "student_mat['traveltime_cat'] = student_mat['traveltime'].apply(lambda x : T_time[x] )"
   ]
  },
  {
   "cell_type": "code",
   "execution_count": 23,
   "id": "64b67e2c",
   "metadata": {},
   "outputs": [],
   "source": [
    "# studytime\n",
    "\n",
    "S_time = {1 : '<2 hours', 2:'2 to 5 hours' , 3: '5 to 10 hours' , 4 :'>10 hours'}\n",
    "student_mat['Studytime_cat'] = student_mat['studytime'].apply(lambda x : S_time[x] )"
   ]
  },
  {
   "cell_type": "code",
   "execution_count": 42,
   "id": "c0c3d9f6",
   "metadata": {},
   "outputs": [],
   "source": [
    "# famrel\n",
    "\n",
    "Fmrel = {1 : 'very bad', 2:'bad' , 3: 'Neutral' , 4 :'good' , 5 :'excellent'}\n",
    "student_mat['Famrel_cat'] = student_mat['famrel'].apply(lambda x : Fmrel[x] )"
   ]
  },
  {
   "cell_type": "code",
   "execution_count": 43,
   "id": "ad462e59",
   "metadata": {},
   "outputs": [],
   "source": [
    "# freetime\n",
    "\n",
    "Frtime = {1 : 'very low', 2:'low' , 3: 'moderate' , 4 :'high' , 5 :'very high'}\n",
    "student_mat['freetime_cat'] = student_mat['freetime'].apply(lambda x : Frtime[x] )"
   ]
  },
  {
   "cell_type": "code",
   "execution_count": 44,
   "id": "469054a4",
   "metadata": {},
   "outputs": [],
   "source": [
    "# goout\n",
    "\n",
    "go_outtime = {1 : 'very low', 2:'low' , 3: 'moderate' , 4 :'high' , 5 :'very high'}\n",
    "student_mat['goout_cat'] = student_mat['goout'].apply(lambda x : go_outtime[x] )"
   ]
  },
  {
   "cell_type": "code",
   "execution_count": 45,
   "id": "3e64a41f",
   "metadata": {},
   "outputs": [],
   "source": [
    "# Dalc\n",
    "\n",
    "Dalcons = {1 : 'very low', 2:'low' , 3: 'moderate' , 4 :'high' , 5 :'very high'}\n",
    "student_mat['Dalc_cat'] = student_mat['Dalc'].apply(lambda x : Dalcons[x] )"
   ]
  },
  {
   "cell_type": "code",
   "execution_count": 46,
   "id": "7b4cc8d6",
   "metadata": {},
   "outputs": [],
   "source": [
    "# Walc\n",
    "\n",
    "Walcons= {1 : 'very low', 2:'low' , 3: 'moderate' , 4 :'high' , 5 :'very high'}\n",
    "student_mat['Walc_cat'] = student_mat['Walc'].apply(lambda x : Walcons[x] )"
   ]
  },
  {
   "cell_type": "code",
   "execution_count": 47,
   "id": "e3f79ebd",
   "metadata": {},
   "outputs": [],
   "source": [
    "# health\n",
    "\n",
    "healthiness = {1 : 'very bad', 2:'bad' , 3: 'Neutral' , 4 :'good' , 5 :'very good'}\n",
    "student_mat['health_cat'] = student_mat['health'].apply(lambda x : healthiness[x] )"
   ]
  },
  {
   "cell_type": "code",
   "execution_count": 345,
   "id": "ec5c278c",
   "metadata": {},
   "outputs": [
    {
     "name": "stdout",
     "output_type": "stream",
     "text": [
      "<class 'pandas.core.frame.DataFrame'>\n",
      "RangeIndex: 395 entries, 0 to 394\n",
      "Data columns (total 44 columns):\n",
      " #   Column          Non-Null Count  Dtype \n",
      "---  ------          --------------  ----- \n",
      " 0   school          395 non-null    object\n",
      " 1   sex             395 non-null    object\n",
      " 2   age             395 non-null    int64 \n",
      " 3   address         395 non-null    object\n",
      " 4   famsize         395 non-null    object\n",
      " 5   Pstatus         395 non-null    object\n",
      " 6   Medu            395 non-null    int64 \n",
      " 7   Fedu            395 non-null    int64 \n",
      " 8   Mjob            395 non-null    object\n",
      " 9   Fjob            395 non-null    object\n",
      " 10  reason          395 non-null    object\n",
      " 11  guardian        395 non-null    object\n",
      " 12  traveltime      395 non-null    int64 \n",
      " 13  studytime       395 non-null    int64 \n",
      " 14  failures        395 non-null    int64 \n",
      " 15  schoolsup       395 non-null    object\n",
      " 16  famsup          395 non-null    object\n",
      " 17  paid            395 non-null    object\n",
      " 18  activities      395 non-null    object\n",
      " 19  nursery         395 non-null    object\n",
      " 20  higher          395 non-null    object\n",
      " 21  internet        395 non-null    object\n",
      " 22  romantic        395 non-null    object\n",
      " 23  famrel          395 non-null    int64 \n",
      " 24  freetime        395 non-null    int64 \n",
      " 25  goout           395 non-null    int64 \n",
      " 26  Dalc            395 non-null    int64 \n",
      " 27  Walc            395 non-null    int64 \n",
      " 28  health          395 non-null    int64 \n",
      " 29  absences        395 non-null    int64 \n",
      " 30  G1              395 non-null    int64 \n",
      " 31  G2              395 non-null    int64 \n",
      " 32  G3              395 non-null    int64 \n",
      " 33  Medu_cat        395 non-null    object\n",
      " 34  Fedu_cat        395 non-null    object\n",
      " 35  traveltime_cat  395 non-null    object\n",
      " 36  Studytime_cat   395 non-null    object\n",
      " 37  Famrel_cat      395 non-null    object\n",
      " 38  freetime_cat    395 non-null    object\n",
      " 39  goout_cat       395 non-null    object\n",
      " 40  Dalc_cat        395 non-null    object\n",
      " 41  Walc_cat        395 non-null    object\n",
      " 42  health_cat      395 non-null    object\n",
      " 43  passed          395 non-null    object\n",
      "dtypes: int64(16), object(28)\n",
      "memory usage: 135.9+ KB\n"
     ]
    }
   ],
   "source": [
    "# just Verifying that all the new columns have been added successfully\n",
    "\n",
    "student_mat.info()"
   ]
  },
  {
   "cell_type": "code",
   "execution_count": 172,
   "id": "faa92fd3",
   "metadata": {},
   "outputs": [],
   "source": [
    "#plt.hist(x=student_mat['G2'])\n",
    "#sns.boxplot(x=student_mat['G1'])"
   ]
  },
  {
   "cell_type": "markdown",
   "id": "6f3cc693",
   "metadata": {},
   "source": [
    "### Exploring each categorical column of the dataset"
   ]
  },
  {
   "cell_type": "code",
   "execution_count": 347,
   "id": "5a809728",
   "metadata": {},
   "outputs": [
    {
     "data": {
      "text/plain": [
       "Index(['school', 'sex', 'age', 'address', 'famsize', 'Pstatus', 'Medu', 'Fedu',\n",
       "       'Mjob', 'Fjob', 'reason', 'guardian', 'traveltime', 'studytime',\n",
       "       'failures', 'schoolsup', 'famsup', 'paid', 'activities', 'nursery',\n",
       "       'higher', 'internet', 'romantic', 'famrel', 'freetime', 'goout', 'Dalc',\n",
       "       'Walc', 'health', 'absences', 'G1', 'G2', 'G3', 'Medu_cat', 'Fedu_cat',\n",
       "       'traveltime_cat', 'Studytime_cat', 'Famrel_cat', 'freetime_cat',\n",
       "       'goout_cat', 'Dalc_cat', 'Walc_cat', 'health_cat', 'passed'],\n",
       "      dtype='object')"
      ]
     },
     "execution_count": 347,
     "metadata": {},
     "output_type": "execute_result"
    }
   ],
   "source": [
    "student_mat.columns"
   ]
  },
  {
   "cell_type": "markdown",
   "id": "962908f4",
   "metadata": {},
   "source": [
    "#### school"
   ]
  },
  {
   "cell_type": "code",
   "execution_count": 63,
   "id": "14cf2f7f",
   "metadata": {},
   "outputs": [
    {
     "data": {
      "text/plain": [
       "<AxesSubplot:xlabel='school', ylabel='count'>"
      ]
     },
     "execution_count": 63,
     "metadata": {},
     "output_type": "execute_result"
    },
    {
     "data": {
      "image/png": "[encoded data removed]",
      "text/plain": [
       "<Figure size 432x288 with 1 Axes>"
      ]
     },
     "metadata": {
      "needs_background": "light"
     },
     "output_type": "display_data"
    }
   ],
   "source": [
    "sns.countplot(x=student_mat['school'])"
   ]
  },
  {
   "cell_type": "markdown",
   "id": "c4655825",
   "metadata": {},
   "source": [
    "#### sex"
   ]
  },
  {
   "cell_type": "code",
   "execution_count": 66,
   "id": "4d2e43a5",
   "metadata": {},
   "outputs": [
    {
     "data": {
      "text/plain": [
       "<AxesSubplot:xlabel='sex', ylabel='count'>"
      ]
     },
     "execution_count": 66,
     "metadata": {},
     "output_type": "execute_result"
    },
    {
     "data": {
      "image/png": "[encoded data removed]",
      "text/plain": [
       "<Figure size 432x288 with 1 Axes>"
      ]
     },
     "metadata": {
      "needs_background": "light"
     },
     "output_type": "display_data"
    }
   ],
   "source": [
    "# sns.countplot(x=student_mat['school'],hue=student_mat['sex'])\n",
    "sns.countplot(x=student_mat['sex'])"
   ]
  },
  {
   "cell_type": "markdown",
   "id": "aa56b10d",
   "metadata": {},
   "source": [
    "There are more female students than male students in the dataset"
   ]
  },
  {
   "cell_type": "markdown",
   "id": "86e397a1",
   "metadata": {},
   "source": [
    "#### address"
   ]
  },
  {
   "cell_type": "code",
   "execution_count": 70,
   "id": "78baba86",
   "metadata": {},
   "outputs": [
    {
     "data": {
      "text/plain": [
       "<AxesSubplot:xlabel='address', ylabel='count'>"
      ]
     },
     "execution_count": 70,
     "metadata": {},
     "output_type": "execute_result"
    },
    {
     "data": {
      "image/png": "[encoded data removed]",
      "text/plain": [
       "<Figure size 432x288 with 1 Axes>"
      ]
     },
     "metadata": {
      "needs_background": "light"
     },
     "output_type": "display_data"
    }
   ],
   "source": [
    "sns.countplot(x=student_mat['address'])"
   ]
  },
  {
   "cell_type": "markdown",
   "id": "c0098939",
   "metadata": {},
   "source": [
    "#### famsize"
   ]
  },
  {
   "cell_type": "code",
   "execution_count": 71,
   "id": "40563d7c",
   "metadata": {},
   "outputs": [
    {
     "data": {
      "text/plain": [
       "<AxesSubplot:xlabel='famsize', ylabel='count'>"
      ]
     },
     "execution_count": 71,
     "metadata": {},
     "output_type": "execute_result"
    },
    {
     "data": {
      "image/png": "[encoded data removed]",
      "text/plain": [
       "<Figure size 432x288 with 1 Axes>"
      ]
     },
     "metadata": {
      "needs_background": "light"
     },
     "output_type": "display_data"
    }
   ],
   "source": [
    "sns.countplot(x=student_mat['famsize'])"
   ]
  },
  {
   "cell_type": "markdown",
   "id": "b1e73f9b",
   "metadata": {},
   "source": [
    "#### Pstatus"
   ]
  },
  {
   "cell_type": "code",
   "execution_count": 72,
   "id": "69913b07",
   "metadata": {},
   "outputs": [
    {
     "data": {
      "text/plain": [
       "<AxesSubplot:xlabel='Pstatus', ylabel='count'>"
      ]
     },
     "execution_count": 72,
     "metadata": {},
     "output_type": "execute_result"
    },
    {
     "data": {
      "image/png": "[encoded data removed]",
      "text/plain": [
       "<Figure size 432x288 with 1 Axes>"
      ]
     },
     "metadata": {
      "needs_background": "light"
     },
     "output_type": "display_data"
    }
   ],
   "source": [
    "sns.countplot(x=student_mat['Pstatus'])"
   ]
  },
  {
   "cell_type": "markdown",
   "id": "fef6bb10",
   "metadata": {},
   "source": [
    "#### Medu_cat"
   ]
  },
  {
   "cell_type": "code",
   "execution_count": 77,
   "id": "dd136435",
   "metadata": {},
   "outputs": [
    {
     "data": {
      "text/plain": [
       "<AxesSubplot:xlabel='Medu_cat', ylabel='count'>"
      ]
     },
     "execution_count": 77,
     "metadata": {},
     "output_type": "execute_result"
    },
    {
     "data": {
      "image/png": "[encoded data removed]",
      "text/plain": [
       "<Figure size 432x288 with 1 Axes>"
      ]
     },
     "metadata": {
      "needs_background": "light"
     },
     "output_type": "display_data"
    }
   ],
   "source": [
    "\n",
    "plt.xticks(rotation ='vertical')\n",
    "sns.countplot(x=student_mat['Medu_cat'] , order =student_mat['Medu_cat'].value_counts().index )"
   ]
  },
  {
   "cell_type": "markdown",
   "id": "bc3422de",
   "metadata": {},
   "source": [
    "#### Fedu_cat"
   ]
  },
  {
   "cell_type": "code",
   "execution_count": 94,
   "id": "24b6fcc5",
   "metadata": {},
   "outputs": [
    {
     "data": {
      "text/plain": [
       "<AxesSubplot:xlabel='Fedu_cat', ylabel='count'>"
      ]
     },
     "execution_count": 94,
     "metadata": {},
     "output_type": "execute_result"
    },
    {
     "data": {
      "image/png": "[encoded data removed]",
      "text/plain": [
       "<Figure size 432x288 with 1 Axes>"
      ]
     },
     "metadata": {
      "needs_background": "light"
     },
     "output_type": "display_data"
    }
   ],
   "source": [
    "plt.xticks(rotation ='vertical')\n",
    "sns.countplot(x=student_mat['Fedu_cat'] , order =student_mat['Fedu_cat'].value_counts().index)"
   ]
  },
  {
   "cell_type": "markdown",
   "id": "788ca06c",
   "metadata": {},
   "source": [
    "#### Mjob"
   ]
  },
  {
   "cell_type": "code",
   "execution_count": 91,
   "id": "b072a995",
   "metadata": {},
   "outputs": [
    {
     "data": {
      "text/plain": [
       "<AxesSubplot:xlabel='Mjob', ylabel='count'>"
      ]
     },
     "execution_count": 91,
     "metadata": {},
     "output_type": "execute_result"
    },
    {
     "data": {
      "image/png": "[encoded data removed]",
      "text/plain": [
       "<Figure size 432x288 with 1 Axes>"
      ]
     },
     "metadata": {
      "needs_background": "light"
     },
     "output_type": "display_data"
    }
   ],
   "source": [
    "sns.countplot(x=student_mat['Mjob'] , order =student_mat['Mjob'].value_counts().index)"
   ]
  },
  {
   "cell_type": "markdown",
   "id": "8760fee0",
   "metadata": {},
   "source": [
    "#### Fjob"
   ]
  },
  {
   "cell_type": "code",
   "execution_count": 89,
   "id": "a3bf57bc",
   "metadata": {},
   "outputs": [
    {
     "data": {
      "text/plain": [
       "<AxesSubplot:xlabel='Fjob', ylabel='count'>"
      ]
     },
     "execution_count": 89,
     "metadata": {},
     "output_type": "execute_result"
    },
    {
     "data": {
      "image/png": "[encoded data removed]",
      "text/plain": [
       "<Figure size 432x288 with 1 Axes>"
      ]
     },
     "metadata": {
      "needs_background": "light"
     },
     "output_type": "display_data"
    }
   ],
   "source": [
    "sns.countplot(x=student_mat['Fjob'] , order =student_mat['Fjob'].value_counts().index)"
   ]
  },
  {
   "cell_type": "markdown",
   "id": "4a3b95b3",
   "metadata": {},
   "source": [
    "#### reason "
   ]
  },
  {
   "cell_type": "code",
   "execution_count": 87,
   "id": "ad15066b",
   "metadata": {},
   "outputs": [
    {
     "data": {
      "text/plain": [
       "<AxesSubplot:xlabel='reason', ylabel='count'>"
      ]
     },
     "execution_count": 87,
     "metadata": {},
     "output_type": "execute_result"
    },
    {
     "data": {
      "image/png": "[encoded data removed]",
      "text/plain": [
       "<Figure size 432x288 with 1 Axes>"
      ]
     },
     "metadata": {
      "needs_background": "light"
     },
     "output_type": "display_data"
    }
   ],
   "source": [
    "sns.countplot(x=student_mat['reason'] , order =student_mat['reason'].value_counts().index)"
   ]
  },
  {
   "cell_type": "markdown",
   "id": "75f6ce89",
   "metadata": {},
   "source": [
    "#### guardian"
   ]
  },
  {
   "cell_type": "code",
   "execution_count": 113,
   "id": "a809ab59",
   "metadata": {},
   "outputs": [
    {
     "data": {
      "text/plain": [
       "<AxesSubplot:xlabel='guardian', ylabel='count'>"
      ]
     },
     "execution_count": 113,
     "metadata": {},
     "output_type": "execute_result"
    },
    {
     "data": {
      "image/png": "[encoded data removed]",
      "text/plain": [
       "<Figure size 432x288 with 1 Axes>"
      ]
     },
     "metadata": {
      "needs_background": "light"
     },
     "output_type": "display_data"
    }
   ],
   "source": [
    "sns.countplot(x=student_mat['guardian'] , order =student_mat['guardian'].value_counts().index)"
   ]
  },
  {
   "cell_type": "markdown",
   "id": "85d49e0c",
   "metadata": {},
   "source": [
    "#### traveltime_cat"
   ]
  },
  {
   "cell_type": "code",
   "execution_count": 86,
   "id": "08097d64",
   "metadata": {},
   "outputs": [
    {
     "data": {
      "text/plain": [
       "<AxesSubplot:xlabel='traveltime_cat', ylabel='count'>"
      ]
     },
     "execution_count": 86,
     "metadata": {},
     "output_type": "execute_result"
    },
    {
     "data": {
      "image/png": "[encoded data removed]",
      "text/plain": [
       "<Figure size 432x288 with 1 Axes>"
      ]
     },
     "metadata": {
      "needs_background": "light"
     },
     "output_type": "display_data"
    }
   ],
   "source": [
    "sns.countplot(x=student_mat['traveltime_cat'] , order =student_mat['traveltime_cat'].value_counts().index)"
   ]
  },
  {
   "cell_type": "markdown",
   "id": "a88b0899",
   "metadata": {},
   "source": [
    "#### Studytime_cat"
   ]
  },
  {
   "cell_type": "code",
   "execution_count": 95,
   "id": "65e7085a",
   "metadata": {},
   "outputs": [
    {
     "data": {
      "text/plain": [
       "<AxesSubplot:xlabel='Studytime_cat', ylabel='count'>"
      ]
     },
     "execution_count": 95,
     "metadata": {},
     "output_type": "execute_result"
    },
    {
     "data": {
      "image/png": "[encoded data removed]",
      "text/plain": [
       "<Figure size 432x288 with 1 Axes>"
      ]
     },
     "metadata": {
      "needs_background": "light"
     },
     "output_type": "display_data"
    }
   ],
   "source": [
    "sns.countplot(x=student_mat['Studytime_cat'] , order =student_mat['Studytime_cat'].value_counts().index)"
   ]
  },
  {
   "cell_type": "markdown",
   "id": "6c2d94f1",
   "metadata": {},
   "source": [
    "### schoolsup"
   ]
  },
  {
   "cell_type": "code",
   "execution_count": 96,
   "id": "5379a30b",
   "metadata": {},
   "outputs": [
    {
     "data": {
      "text/plain": [
       "<AxesSubplot:xlabel='schoolsup', ylabel='count'>"
      ]
     },
     "execution_count": 96,
     "metadata": {},
     "output_type": "execute_result"
    },
    {
     "data": {
      "image/png": "[encoded data removed]",
      "text/plain": [
       "<Figure size 432x288 with 1 Axes>"
      ]
     },
     "metadata": {
      "needs_background": "light"
     },
     "output_type": "display_data"
    }
   ],
   "source": [
    "sns.countplot(x=student_mat['schoolsup'] , order =student_mat['schoolsup'].value_counts().index)"
   ]
  },
  {
   "cell_type": "markdown",
   "id": "10b6bdf9",
   "metadata": {},
   "source": [
    "#### famsup"
   ]
  },
  {
   "cell_type": "code",
   "execution_count": 97,
   "id": "109f8733",
   "metadata": {},
   "outputs": [
    {
     "data": {
      "text/plain": [
       "<AxesSubplot:xlabel='famsup', ylabel='count'>"
      ]
     },
     "execution_count": 97,
     "metadata": {},
     "output_type": "execute_result"
    },
    {
     "data": {
      "image/png": "[encoded data removed]",
      "text/plain": [
       "<Figure size 432x288 with 1 Axes>"
      ]
     },
     "metadata": {
      "needs_background": "light"
     },
     "output_type": "display_data"
    }
   ],
   "source": [
    "sns.countplot(x=student_mat['famsup'] , order =student_mat['famsup'].value_counts().index)"
   ]
  },
  {
   "cell_type": "markdown",
   "id": "aecf1b87",
   "metadata": {},
   "source": [
    "#### paid"
   ]
  },
  {
   "cell_type": "code",
   "execution_count": 98,
   "id": "0df30f08",
   "metadata": {},
   "outputs": [
    {
     "data": {
      "text/plain": [
       "<AxesSubplot:xlabel='paid', ylabel='count'>"
      ]
     },
     "execution_count": 98,
     "metadata": {},
     "output_type": "execute_result"
    },
    {
     "data": {
      "image/png": "[encoded data removed]",
      "text/plain": [
       "<Figure size 432x288 with 1 Axes>"
      ]
     },
     "metadata": {
      "needs_background": "light"
     },
     "output_type": "display_data"
    }
   ],
   "source": [
    "sns.countplot(x=student_mat['paid'] , order =student_mat['paid'].value_counts().index)"
   ]
  },
  {
   "cell_type": "markdown",
   "id": "e929fd0a",
   "metadata": {},
   "source": [
    "#### activities"
   ]
  },
  {
   "cell_type": "code",
   "execution_count": 99,
   "id": "dfc86d46",
   "metadata": {},
   "outputs": [
    {
     "data": {
      "text/plain": [
       "<AxesSubplot:xlabel='activities', ylabel='count'>"
      ]
     },
     "execution_count": 99,
     "metadata": {},
     "output_type": "execute_result"
    },
    {
     "data": {
      "image/png": "[encoded data removed]",
      "text/plain": [
       "<Figure size 432x288 with 1 Axes>"
      ]
     },
     "metadata": {
      "needs_background": "light"
     },
     "output_type": "display_data"
    }
   ],
   "source": [
    "sns.countplot(x=student_mat['activities'] , order =student_mat['activities'].value_counts().index)"
   ]
  },
  {
   "cell_type": "markdown",
   "id": "d1afcf60",
   "metadata": {},
   "source": [
    "#### nursery"
   ]
  },
  {
   "cell_type": "code",
   "execution_count": 101,
   "id": "365b7afe",
   "metadata": {},
   "outputs": [
    {
     "data": {
      "text/plain": [
       "<AxesSubplot:xlabel='nursery', ylabel='count'>"
      ]
     },
     "execution_count": 101,
     "metadata": {},
     "output_type": "execute_result"
    },
    {
     "data": {
      "image/png": "[encoded data removed]",
      "text/plain": [
       "<Figure size 432x288 with 1 Axes>"
      ]
     },
     "metadata": {
      "needs_background": "light"
     },
     "output_type": "display_data"
    }
   ],
   "source": [
    "sns.countplot(x=student_mat['nursery'] , order =student_mat['nursery'].value_counts().index)"
   ]
  },
  {
   "cell_type": "markdown",
   "id": "f5d404c1",
   "metadata": {},
   "source": [
    "#### higher"
   ]
  },
  {
   "cell_type": "code",
   "execution_count": 102,
   "id": "dec3498c",
   "metadata": {},
   "outputs": [
    {
     "data": {
      "text/plain": [
       "<AxesSubplot:xlabel='higher', ylabel='count'>"
      ]
     },
     "execution_count": 102,
     "metadata": {},
     "output_type": "execute_result"
    },
    {
     "data": {
      "image/png": "[encoded data removed]",
      "text/plain": [
       "<Figure size 432x288 with 1 Axes>"
      ]
     },
     "metadata": {
      "needs_background": "light"
     },
     "output_type": "display_data"
    }
   ],
   "source": [
    "sns.countplot(x=student_mat['higher'] , order =student_mat['higher'].value_counts().index)"
   ]
  },
  {
   "cell_type": "markdown",
   "id": "563e32cb",
   "metadata": {},
   "source": [
    "#### internet"
   ]
  },
  {
   "cell_type": "code",
   "execution_count": 103,
   "id": "84114f40",
   "metadata": {},
   "outputs": [
    {
     "data": {
      "text/plain": [
       "<AxesSubplot:xlabel='internet', ylabel='count'>"
      ]
     },
     "execution_count": 103,
     "metadata": {},
     "output_type": "execute_result"
    },
    {
     "data": {
      "image/png": "[encoded data removed]",
      "text/plain": [
       "<Figure size 432x288 with 1 Axes>"
      ]
     },
     "metadata": {
      "needs_background": "light"
     },
     "output_type": "display_data"
    }
   ],
   "source": [
    "sns.countplot(x=student_mat['internet'] , order =student_mat['internet'].value_counts().index)"
   ]
  },
  {
   "cell_type": "markdown",
   "id": "93ab4a4d",
   "metadata": {},
   "source": [
    "#### romantic"
   ]
  },
  {
   "cell_type": "code",
   "execution_count": 104,
   "id": "d1490323",
   "metadata": {},
   "outputs": [
    {
     "data": {
      "text/plain": [
       "<AxesSubplot:xlabel='romantic', ylabel='count'>"
      ]
     },
     "execution_count": 104,
     "metadata": {},
     "output_type": "execute_result"
    },
    {
     "data": {
      "image/png": "[encoded data removed]",
      "text/plain": [
       "<Figure size 432x288 with 1 Axes>"
      ]
     },
     "metadata": {
      "needs_background": "light"
     },
     "output_type": "display_data"
    }
   ],
   "source": [
    "sns.countplot(x=student_mat['romantic'] , order =student_mat['romantic'].value_counts().index)"
   ]
  },
  {
   "cell_type": "markdown",
   "id": "9e904f04",
   "metadata": {},
   "source": [
    "#### traveltime_cat"
   ]
  },
  {
   "cell_type": "code",
   "execution_count": 105,
   "id": "c329b288",
   "metadata": {},
   "outputs": [
    {
     "data": {
      "text/plain": [
       "<AxesSubplot:xlabel='traveltime_cat', ylabel='count'>"
      ]
     },
     "execution_count": 105,
     "metadata": {},
     "output_type": "execute_result"
    },
    {
     "data": {
      "image/png": "[encoded data removed]",
      "text/plain": [
       "<Figure size 432x288 with 1 Axes>"
      ]
     },
     "metadata": {
      "needs_background": "light"
     },
     "output_type": "display_data"
    }
   ],
   "source": [
    "sns.countplot(x=student_mat['traveltime_cat'] , order =student_mat['traveltime_cat'].value_counts().index)"
   ]
  },
  {
   "cell_type": "markdown",
   "id": "dfc814d8",
   "metadata": {},
   "source": [
    "#### Studytime_cat"
   ]
  },
  {
   "cell_type": "code",
   "execution_count": 106,
   "id": "0d4d4627",
   "metadata": {},
   "outputs": [
    {
     "data": {
      "text/plain": [
       "<AxesSubplot:xlabel='Studytime_cat', ylabel='count'>"
      ]
     },
     "execution_count": 106,
     "metadata": {},
     "output_type": "execute_result"
    },
    {
     "data": {
      "image/png": "[encoded data removed]",
      "text/plain": [
       "<Figure size 432x288 with 1 Axes>"
      ]
     },
     "metadata": {
      "needs_background": "light"
     },
     "output_type": "display_data"
    }
   ],
   "source": [
    "sns.countplot(x=student_mat['Studytime_cat'] , order =student_mat['Studytime_cat'].value_counts().index)"
   ]
  },
  {
   "cell_type": "markdown",
   "id": "b6773fba",
   "metadata": {},
   "source": [
    "#### Famrel_cat"
   ]
  },
  {
   "cell_type": "code",
   "execution_count": 107,
   "id": "6430b7dc",
   "metadata": {},
   "outputs": [
    {
     "data": {
      "text/plain": [
       "<AxesSubplot:xlabel='Famrel_cat', ylabel='count'>"
      ]
     },
     "execution_count": 107,
     "metadata": {},
     "output_type": "execute_result"
    },
    {
     "data": {
      "image/png": "[encoded data removed]",
      "text/plain": [
       "<Figure size 432x288 with 1 Axes>"
      ]
     },
     "metadata": {
      "needs_background": "light"
     },
     "output_type": "display_data"
    }
   ],
   "source": [
    "sns.countplot(x=student_mat['Famrel_cat'] , order =student_mat['Famrel_cat'].value_counts().index)"
   ]
  },
  {
   "cell_type": "markdown",
   "id": "80c8f06b",
   "metadata": {},
   "source": [
    "#### freetime_cat"
   ]
  },
  {
   "cell_type": "code",
   "execution_count": 108,
   "id": "54f9b617",
   "metadata": {},
   "outputs": [
    {
     "data": {
      "text/plain": [
       "<AxesSubplot:xlabel='freetime_cat', ylabel='count'>"
      ]
     },
     "execution_count": 108,
     "metadata": {},
     "output_type": "execute_result"
    },
    {
     "data": {
      "image/png": "[encoded data removed]",
      "text/plain": [
       "<Figure size 432x288 with 1 Axes>"
      ]
     },
     "metadata": {
      "needs_background": "light"
     },
     "output_type": "display_data"
    }
   ],
   "source": [
    "sns.countplot(x=student_mat['freetime_cat'] , order =student_mat['freetime_cat'].value_counts().index)"
   ]
  },
  {
   "cell_type": "markdown",
   "id": "53c0b075",
   "metadata": {},
   "source": [
    "#### goout_cat"
   ]
  },
  {
   "cell_type": "code",
   "execution_count": 109,
   "id": "cdb037d3",
   "metadata": {},
   "outputs": [
    {
     "data": {
      "text/plain": [
       "<AxesSubplot:xlabel='goout_cat', ylabel='count'>"
      ]
     },
     "execution_count": 109,
     "metadata": {},
     "output_type": "execute_result"
    },
    {
     "data": {
      "image/png": "[encoded data removed]",
      "text/plain": [
       "<Figure size 432x288 with 1 Axes>"
      ]
     },
     "metadata": {
      "needs_background": "light"
     },
     "output_type": "display_data"
    }
   ],
   "source": [
    "sns.countplot(x=student_mat['goout_cat'] , order =student_mat['goout_cat'].value_counts().index)"
   ]
  },
  {
   "cell_type": "markdown",
   "id": "e09acc62",
   "metadata": {},
   "source": [
    "#### Dalc_cat"
   ]
  },
  {
   "cell_type": "code",
   "execution_count": 110,
   "id": "23f1fa39",
   "metadata": {},
   "outputs": [
    {
     "data": {
      "text/plain": [
       "<AxesSubplot:xlabel='Dalc_cat', ylabel='count'>"
      ]
     },
     "execution_count": 110,
     "metadata": {},
     "output_type": "execute_result"
    },
    {
     "data": {
      "image/png": "[encoded data removed]",
      "text/plain": [
       "<Figure size 432x288 with 1 Axes>"
      ]
     },
     "metadata": {
      "needs_background": "light"
     },
     "output_type": "display_data"
    }
   ],
   "source": [
    "sns.countplot(x=student_mat['Dalc_cat'] , order =student_mat['Dalc_cat'].value_counts().index)"
   ]
  },
  {
   "cell_type": "markdown",
   "id": "56f78512",
   "metadata": {},
   "source": [
    "#### Walc_cat"
   ]
  },
  {
   "cell_type": "code",
   "execution_count": 111,
   "id": "42701740",
   "metadata": {},
   "outputs": [
    {
     "data": {
      "text/plain": [
       "<AxesSubplot:xlabel='Walc_cat', ylabel='count'>"
      ]
     },
     "execution_count": 111,
     "metadata": {},
     "output_type": "execute_result"
    },
    {
     "data": {
      "image/png": "[encoded data removed]",
      "text/plain": [
       "<Figure size 432x288 with 1 Axes>"
      ]
     },
     "metadata": {
      "needs_background": "light"
     },
     "output_type": "display_data"
    }
   ],
   "source": [
    "sns.countplot(x=student_mat['Walc_cat'] , order =student_mat['Walc_cat'].value_counts().index)"
   ]
  },
  {
   "cell_type": "markdown",
   "id": "855a4540",
   "metadata": {},
   "source": [
    "#### health_cat"
   ]
  },
  {
   "cell_type": "code",
   "execution_count": 112,
   "id": "dc361174",
   "metadata": {},
   "outputs": [
    {
     "data": {
      "text/plain": [
       "<AxesSubplot:xlabel='health_cat', ylabel='count'>"
      ]
     },
     "execution_count": 112,
     "metadata": {},
     "output_type": "execute_result"
    },
    {
     "data": {
      "image/png": "[encoded data removed]",
      "text/plain": [
       "<Figure size 432x288 with 1 Axes>"
      ]
     },
     "metadata": {
      "needs_background": "light"
     },
     "output_type": "display_data"
    }
   ],
   "source": [
    "sns.countplot(x=student_mat['health_cat'] , order =student_mat['health_cat'].value_counts().index)"
   ]
  },
  {
   "cell_type": "markdown",
   "id": "5c4fe3d9",
   "metadata": {},
   "source": [
    "### Exploring the distribution of Numerical data columns in dataset"
   ]
  },
  {
   "cell_type": "markdown",
   "id": "be026683",
   "metadata": {},
   "source": [
    "#### age"
   ]
  },
  {
   "cell_type": "code",
   "execution_count": 158,
   "id": "338359e4",
   "metadata": {},
   "outputs": [
    {
     "data": {
      "text/plain": [
       "<AxesSubplot:xlabel='age', ylabel='Count'>"
      ]
     },
     "execution_count": 158,
     "metadata": {},
     "output_type": "execute_result"
    },
    {
     "data": {
      "image/png": "[encoded data removed]",
      "text/plain": [
       "<Figure size 432x288 with 1 Axes>"
      ]
     },
     "metadata": {
      "needs_background": "light"
     },
     "output_type": "display_data"
    }
   ],
   "source": [
    "sns.histplot(x=student_mat['age'],bins=range(student_mat['age'].unique().min() , student_mat['age'].unique().max()+1 ))"
   ]
  },
  {
   "cell_type": "markdown",
   "id": "714194ee",
   "metadata": {},
   "source": [
    "#### failures"
   ]
  },
  {
   "cell_type": "code",
   "execution_count": 145,
   "id": "a7ada8c1",
   "metadata": {},
   "outputs": [
    {
     "data": {
      "text/plain": [
       "<AxesSubplot:xlabel='failures', ylabel='Count'>"
      ]
     },
     "execution_count": 145,
     "metadata": {},
     "output_type": "execute_result"
    },
    {
     "data": {
      "image/png": "[encoded data removed]",
      "text/plain": [
       "<Figure size 432x288 with 1 Axes>"
      ]
     },
     "metadata": {
      "needs_background": "light"
     },
     "output_type": "display_data"
    }
   ],
   "source": [
    "sns.histplot(x=student_mat['failures'],bins=range(student_mat['failures'].unique().min() , student_mat['failures'].unique().max()+5))"
   ]
  },
  {
   "cell_type": "markdown",
   "id": "60b357a7",
   "metadata": {},
   "source": [
    "#### absences"
   ]
  },
  {
   "cell_type": "code",
   "execution_count": 155,
   "id": "777cdf77",
   "metadata": {},
   "outputs": [
    {
     "data": {
      "text/plain": [
       "<AxesSubplot:xlabel='absences', ylabel='Count'>"
      ]
     },
     "execution_count": 155,
     "metadata": {},
     "output_type": "execute_result"
    },
    {
     "data": {
      "image/png": "[encoded data removed]",
      "text/plain": [
       "<Figure size 432x288 with 1 Axes>"
      ]
     },
     "metadata": {
      "needs_background": "light"
     },
     "output_type": "display_data"
    }
   ],
   "source": [
    "sns.histplot(x=student_mat['absences'],bins=25)"
   ]
  },
  {
   "cell_type": "markdown",
   "id": "84729909",
   "metadata": {},
   "source": [
    "#### G1"
   ]
  },
  {
   "cell_type": "code",
   "execution_count": 161,
   "id": "310172fd",
   "metadata": {},
   "outputs": [
    {
     "data": {
      "text/plain": [
       "<AxesSubplot:xlabel='G1', ylabel='Count'>"
      ]
     },
     "execution_count": 161,
     "metadata": {},
     "output_type": "execute_result"
    },
    {
     "data": {
      "image/png": "[encoded data removed]",
      "text/plain": [
       "<Figure size 432x288 with 1 Axes>"
      ]
     },
     "metadata": {
      "needs_background": "light"
     },
     "output_type": "display_data"
    }
   ],
   "source": [
    "sns.histplot(x=student_mat['G1'],bins =range(student_mat['G1'].unique().min() , student_mat['G1'].unique().max()+1 ,1))"
   ]
  },
  {
   "cell_type": "markdown",
   "id": "98d11cd1",
   "metadata": {},
   "source": [
    "#### G2"
   ]
  },
  {
   "cell_type": "code",
   "execution_count": 167,
   "id": "984222bb",
   "metadata": {},
   "outputs": [
    {
     "data": {
      "text/plain": [
       "<AxesSubplot:xlabel='G2', ylabel='Count'>"
      ]
     },
     "execution_count": 167,
     "metadata": {},
     "output_type": "execute_result"
    },
    {
     "data": {
      "image/png": "[encoded data removed]",
      "text/plain": [
       "<Figure size 432x288 with 1 Axes>"
      ]
     },
     "metadata": {
      "needs_background": "light"
     },
     "output_type": "display_data"
    }
   ],
   "source": [
    "sns.histplot(x=student_mat['G2'],bins =range(student_mat['G2'].unique().min() , student_mat['G2'].unique().max()+1, 1))"
   ]
  },
  {
   "cell_type": "markdown",
   "id": "978ec753",
   "metadata": {},
   "source": [
    "#### G3"
   ]
  },
  {
   "cell_type": "code",
   "execution_count": 162,
   "id": "be16f521",
   "metadata": {},
   "outputs": [
    {
     "data": {
      "text/plain": [
       "<AxesSubplot:xlabel='G3', ylabel='Count'>"
      ]
     },
     "execution_count": 162,
     "metadata": {},
     "output_type": "execute_result"
    },
    {
     "data": {
      "image/png": "[encoded data removed]",
      "text/plain": [
       "<Figure size 432x288 with 1 Axes>"
      ]
     },
     "metadata": {
      "needs_background": "light"
     },
     "output_type": "display_data"
    }
   ],
   "source": [
    "sns.histplot(x=student_mat['G3'],bins =range(student_mat['G3'].unique().min() , student_mat['G3'].unique().max()+1 ,1))"
   ]
  },
  {
   "cell_type": "code",
   "execution_count": 269,
   "id": "8ffb1cad",
   "metadata": {},
   "outputs": [],
   "source": [
    "var =['school', 'sex', 'address', 'famsize', 'Pstatus',\n",
    "       'Mjob', 'Fjob', 'reason', 'guardian', 'schoolsup', 'famsup', 'paid', 'activities', 'nursery',\n",
    "       'higher', 'internet', 'romantic', 'Medu_cat', 'Fedu_cat',\n",
    "       'traveltime_cat', 'Studytime_cat', 'Famrel_cat', 'freetime_cat',\n",
    "       'goout_cat', 'Dalc_cat', 'Walc_cat', 'health_cat']"
   ]
  },
  {
   "cell_type": "markdown",
   "id": "e78c7051",
   "metadata": {},
   "source": [
    "### Exploring all the categories and their effect in G3 value of a student "
   ]
  },
  {
   "cell_type": "code",
   "execution_count": 275,
   "id": "4fa88eb4",
   "metadata": {},
   "outputs": [
    {
     "data": {
      "image/png": "[encoded data removed]",
      "text/plain": [
       "<Figure size 1080x1440 with 9 Axes>"
      ]
     },
     "metadata": {
      "needs_background": "light"
     },
     "output_type": "display_data"
    }
   ],
   "source": [
    "cols1 =['school', 'sex','address', 'famsize', 'Pstatus','Mjob', 'Fjob', 'reason', 'guardian']\n",
    "plt.figure(figsize=(15,20))\n",
    "\n",
    "c=1\n",
    "for i in cols1:\n",
    "    plt.subplot(3,3,c)\n",
    "    sns.boxplot(x=i,y='G3',data=student_mat)\n",
    "    c = c+1"
   ]
  },
  {
   "cell_type": "code",
   "execution_count": 276,
   "id": "f04c4fb0",
   "metadata": {},
   "outputs": [
    {
     "data": {
      "image/png": "[encoded data removed]",
      "text/plain": [
       "<Figure size 1440x1440 with 9 Axes>"
      ]
     },
     "metadata": {
      "needs_background": "light"
     },
     "output_type": "display_data"
    }
   ],
   "source": [
    "cols2 =['famsup', 'paid', 'activities', 'nursery',\n",
    "       'higher', 'internet','schoolsup','Medu_cat','Fedu_cat']\n",
    "plt.figure(figsize=(20,20))\n",
    "\n",
    "c=1\n",
    "for i in cols2:\n",
    "    plt.subplot(3,3,c)\n",
    "    plt.xticks(rotation =90)\n",
    "    sns.boxplot(x=i,y='G3',data=student_mat)\n",
    "    c = c+1"
   ]
  },
  {
   "cell_type": "code",
   "execution_count": 277,
   "id": "fc6a6a5a",
   "metadata": {},
   "outputs": [
    {
     "data": {
      "image/png": "[encoded data removed]",
      "text/plain": [
       "<Figure size 1080x1440 with 9 Axes>"
      ]
     },
     "metadata": {
      "needs_background": "light"
     },
     "output_type": "display_data"
    }
   ],
   "source": [
    "cols3=['traveltime_cat', 'Studytime_cat', 'Famrel_cat', 'freetime_cat',\n",
    "       'goout_cat', 'Dalc_cat', 'Walc_cat', 'health_cat','romantic']\n",
    "plt.figure(figsize=(15,20))\n",
    "c=1\n",
    "for i in cols3:\n",
    "    plt.subplot(3,3,c)\n",
    "    sns.boxplot(x=i,y='G3',data=student_mat)\n",
    "    c = c+1"
   ]
  },
  {
   "cell_type": "markdown",
   "id": "0c5b9aec",
   "metadata": {},
   "source": [
    "### Exploring the relationship of each numerical column with G3 Value of the student "
   ]
  },
  {
   "cell_type": "markdown",
   "id": "036536c9",
   "metadata": {},
   "source": [
    "#### age vs G3"
   ]
  },
  {
   "cell_type": "code",
   "execution_count": 279,
   "id": "a6c31c54",
   "metadata": {},
   "outputs": [
    {
     "data": {
      "text/plain": [
       "<AxesSubplot:xlabel='age', ylabel='G3'>"
      ]
     },
     "execution_count": 279,
     "metadata": {},
     "output_type": "execute_result"
    },
    {
     "data": {
      "image/png": "[encoded data removed]",
      "text/plain": [
       "<Figure size 432x288 with 1 Axes>"
      ]
     },
     "metadata": {
      "needs_background": "light"
     },
     "output_type": "display_data"
    }
   ],
   "source": [
    "sns.scatterplot(x=student_mat['age'],y=student_mat['G3'])"
   ]
  },
  {
   "cell_type": "markdown",
   "id": "36b1d5fb",
   "metadata": {},
   "source": [
    "#### failures vs G3"
   ]
  },
  {
   "cell_type": "code",
   "execution_count": 280,
   "id": "81878840",
   "metadata": {},
   "outputs": [
    {
     "data": {
      "text/plain": [
       "<AxesSubplot:xlabel='failures', ylabel='G3'>"
      ]
     },
     "execution_count": 280,
     "metadata": {},
     "output_type": "execute_result"
    },
    {
     "data": {
      "image/png": "[encoded data removed]",
      "text/plain": [
       "<Figure size 432x288 with 1 Axes>"
      ]
     },
     "metadata": {
      "needs_background": "light"
     },
     "output_type": "display_data"
    }
   ],
   "source": [
    "sns.scatterplot(x=student_mat['failures'],y=student_mat['G3'])"
   ]
  },
  {
   "cell_type": "markdown",
   "id": "89c649f3",
   "metadata": {},
   "source": [
    "#### absences vs G3"
   ]
  },
  {
   "cell_type": "code",
   "execution_count": 281,
   "id": "0d2f2110",
   "metadata": {},
   "outputs": [
    {
     "data": {
      "text/plain": [
       "<AxesSubplot:xlabel='absences', ylabel='G3'>"
      ]
     },
     "execution_count": 281,
     "metadata": {},
     "output_type": "execute_result"
    },
    {
     "data": {
      "image/png": "[encoded data removed]",
      "text/plain": [
       "<Figure size 432x288 with 1 Axes>"
      ]
     },
     "metadata": {
      "needs_background": "light"
     },
     "output_type": "display_data"
    }
   ],
   "source": [
    "sns.scatterplot(x=student_mat['absences'],y=student_mat['G3'])"
   ]
  },
  {
   "cell_type": "markdown",
   "id": "8652212f",
   "metadata": {},
   "source": [
    "#### G1 vs G3"
   ]
  },
  {
   "cell_type": "code",
   "execution_count": 358,
   "id": "c4461620",
   "metadata": {},
   "outputs": [
    {
     "data": {
      "text/plain": [
       "<AxesSubplot:xlabel='G1', ylabel='G3'>"
      ]
     },
     "execution_count": 358,
     "metadata": {},
     "output_type": "execute_result"
    },
    {
     "data": {
      "image/png": "[encoded data removed]",
      "text/plain": [
       "<Figure size 432x288 with 1 Axes>"
      ]
     },
     "metadata": {
      "needs_background": "light"
     },
     "output_type": "display_data"
    }
   ],
   "source": [
    "sns.scatterplot(x=student_mat['G1'],y=student_mat['G3'])"
   ]
  },
  {
   "cell_type": "markdown",
   "id": "071554ca",
   "metadata": {},
   "source": [
    "#### G2 vs G3"
   ]
  },
  {
   "cell_type": "code",
   "execution_count": 283,
   "id": "2c99289e",
   "metadata": {},
   "outputs": [
    {
     "data": {
      "text/plain": [
       "<AxesSubplot:xlabel='G2', ylabel='G3'>"
      ]
     },
     "execution_count": 283,
     "metadata": {},
     "output_type": "execute_result"
    },
    {
     "data": {
      "image/png": "[encoded data removed]",
      "text/plain": [
       "<Figure size 432x288 with 1 Axes>"
      ]
     },
     "metadata": {
      "needs_background": "light"
     },
     "output_type": "display_data"
    }
   ],
   "source": [
    "sns.scatterplot(x=student_mat['G2'],y=student_mat['G3'])"
   ]
  },
  {
   "cell_type": "code",
   "execution_count": 359,
   "id": "1b8c6f36",
   "metadata": {},
   "outputs": [],
   "source": [
    "#sns.scatterplot(x=student_mat['G1'],y=student_mat['G2'])"
   ]
  },
  {
   "cell_type": "markdown",
   "id": "f8f977db",
   "metadata": {},
   "source": [
    "### Heatmap displaying the correlation between the numerical variables of dataset"
   ]
  },
  {
   "cell_type": "markdown",
   "id": "facd1364",
   "metadata": {},
   "source": [
    "* Used spearman method since some numerical columns are skewed ."
   ]
  },
  {
   "cell_type": "code",
   "execution_count": 360,
   "id": "d6fd8f33",
   "metadata": {},
   "outputs": [],
   "source": [
    "d1 = student_mat[['age','failures','absences','G1','G2','G3']]\n",
    "\n",
    "cd = d1.corr(method='spearman')"
   ]
  },
  {
   "cell_type": "code",
   "execution_count": 361,
   "id": "9f9e5202",
   "metadata": {},
   "outputs": [
    {
     "data": {
      "text/plain": [
       "<AxesSubplot:>"
      ]
     },
     "execution_count": 361,
     "metadata": {},
     "output_type": "execute_result"
    },
    {
     "data": {
      "image/png": "[encoded data removed]",
      "text/plain": [
       "<Figure size 720x360 with 2 Axes>"
      ]
     },
     "metadata": {
      "needs_background": "light"
     },
     "output_type": "display_data"
    }
   ],
   "source": [
    "plt.figure(figsize = (10,5))\n",
    "sns.heatmap(cd,annot=True)"
   ]
  },
  {
   "cell_type": "code",
   "execution_count": 121,
   "id": "2f7a73f0",
   "metadata": {},
   "outputs": [
    {
     "data": {
      "text/plain": [
       "<AxesSubplot:xlabel='school', ylabel='count'>"
      ]
     },
     "execution_count": 121,
     "metadata": {},
     "output_type": "execute_result"
    },
    {
     "data": {
      "image/png": "[encoded data removed]",
      "text/plain": [
       "<Figure size 432x288 with 1 Axes>"
      ]
     },
     "metadata": {
      "needs_background": "light"
     },
     "output_type": "display_data"
    }
   ],
   "source": [
    "sns.countplot(x='school',hue='sex',data =student_mat )"
   ]
  },
  {
   "cell_type": "markdown",
   "id": "19ae8d8e",
   "metadata": {},
   "source": [
    "* Bar graph showing number of students in each school divided by sex"
   ]
  },
  {
   "cell_type": "code",
   "execution_count": 285,
   "id": "65570ca8",
   "metadata": {},
   "outputs": [
    {
     "data": {
      "text/plain": [
       "<AxesSubplot:xlabel='age', ylabel='G3'>"
      ]
     },
     "execution_count": 285,
     "metadata": {},
     "output_type": "execute_result"
    },
    {
     "data": {
      "image/png": "[encoded data removed]",
      "text/plain": [
       "<Figure size 432x288 with 1 Axes>"
      ]
     },
     "metadata": {
      "needs_background": "light"
     },
     "output_type": "display_data"
    }
   ],
   "source": [
    "sns.boxplot(x='age',y='G3',data =student_mat )"
   ]
  },
  {
   "cell_type": "markdown",
   "id": "982cce75",
   "metadata": {},
   "source": [
    "* Since the age varying from 15-22(8 values). Using age as category ploting a boxplot with G3 on y-axis,\n",
    "    shows that there is a significant variation of G3 obtained with respect to age of student."
   ]
  },
  {
   "cell_type": "code",
   "execution_count": null,
   "id": "77aff2da",
   "metadata": {},
   "outputs": [],
   "source": [
    "def checkpassed(t):\n",
    "    if t>=8:\n",
    "        return 'Yes'\n",
    "    else:\n",
    "        return 'No'"
   ]
  },
  {
   "cell_type": "markdown",
   "id": "7ec41104",
   "metadata": {},
   "source": [
    "Assuming pass Grade value as 8"
   ]
  },
  {
   "cell_type": "markdown",
   "id": "30ffd01e",
   "metadata": {},
   "source": [
    "Considering students who got G3 value >= 8 as passed & otheras failed"
   ]
  },
  {
   "cell_type": "markdown",
   "id": "923f1e76",
   "metadata": {},
   "source": [
    "* creating a column with name passed conatining Yes or No based on the values of G3 \n",
    "\n",
    "    if G3> 8 -> passed(Yes) else failed(No)"
   ]
  },
  {
   "cell_type": "code",
   "execution_count": 287,
   "id": "a6e0db72",
   "metadata": {},
   "outputs": [],
   "source": [
    "student_mat['passed']=student_mat['G3'].apply(checkpassed)"
   ]
  },
  {
   "cell_type": "code",
   "execution_count": 295,
   "id": "aa9f0f9f",
   "metadata": {},
   "outputs": [
    {
     "data": {
      "text/plain": [
       "GP    288\n",
       "MS     37\n",
       "Name: school, dtype: int64"
      ]
     },
     "execution_count": 295,
     "metadata": {},
     "output_type": "execute_result"
    }
   ],
   "source": [
    "student_mat[student_mat['passed'] == 'Yes']['school'].value_counts()"
   ]
  },
  {
   "cell_type": "code",
   "execution_count": 305,
   "id": "f1ba6c4e",
   "metadata": {},
   "outputs": [
    {
     "data": {
      "text/plain": [
       "GP    349\n",
       "MS     46\n",
       "Name: school, dtype: int64"
      ]
     },
     "execution_count": 305,
     "metadata": {},
     "output_type": "execute_result"
    }
   ],
   "source": [
    "student_mat['school'].value_counts()"
   ]
  },
  {
   "cell_type": "code",
   "execution_count": 298,
   "id": "424e0f2d",
   "metadata": {},
   "outputs": [
    {
     "data": {
      "text/plain": [
       "Text(0, 0.5, 'Number of students')"
      ]
     },
     "execution_count": 298,
     "metadata": {},
     "output_type": "execute_result"
    },
    {
     "data": {
      "image/png": "[encoded data removed]",
      "text/plain": [
       "<Figure size 432x288 with 1 Axes>"
      ]
     },
     "metadata": {
      "needs_background": "light"
     },
     "output_type": "display_data"
    }
   ],
   "source": [
    "sns.countplot(x='school',hue='passed',data=student_mat)\n",
    "plt.ylabel('Number of students')"
   ]
  },
  {
   "cell_type": "code",
   "execution_count": 306,
   "id": "bd255ffe",
   "metadata": {},
   "outputs": [
    {
     "data": {
      "text/plain": [
       "Text(0, 0.5, 'Number of students')"
      ]
     },
     "execution_count": 306,
     "metadata": {},
     "output_type": "execute_result"
    },
    {
     "data": {
      "image/png": "[encoded data removed]",
      "text/plain": [
       "<Figure size 432x288 with 1 Axes>"
      ]
     },
     "metadata": {
      "needs_background": "light"
     },
     "output_type": "display_data"
    }
   ],
   "source": [
    "sns.countplot(x='sex',hue='passed',order = student_mat['sex'].value_counts().index,data=student_mat)\n",
    "plt.ylabel('Number of students')"
   ]
  },
  {
   "cell_type": "code",
   "execution_count": 307,
   "id": "01c4dd35",
   "metadata": {},
   "outputs": [
    {
     "data": {
      "text/plain": [
       "sex  passed\n",
       "F    Yes       164\n",
       "     No         44\n",
       "M    Yes       161\n",
       "     No         26\n",
       "Name: passed, dtype: int64"
      ]
     },
     "execution_count": 307,
     "metadata": {},
     "output_type": "execute_result"
    }
   ],
   "source": [
    "student_mat.groupby('sex')['passed'].value_counts()"
   ]
  },
  {
   "cell_type": "code",
   "execution_count": 310,
   "id": "0267534c",
   "metadata": {},
   "outputs": [
    {
     "data": {
      "text/plain": [
       "Text(0, 0.5, 'Number of students')"
      ]
     },
     "execution_count": 310,
     "metadata": {},
     "output_type": "execute_result"
    },
    {
     "data": {
      "image/png": "[encoded data removed]",
      "text/plain": [
       "<Figure size 432x288 with 1 Axes>"
      ]
     },
     "metadata": {
      "needs_background": "light"
     },
     "output_type": "display_data"
    }
   ],
   "source": [
    "sns.countplot(x='famsup',hue='passed',order = student_mat['famsup'].value_counts().index,data=student_mat)\n",
    "plt.ylabel('Number of students')"
   ]
  },
  {
   "cell_type": "code",
   "execution_count": 313,
   "id": "57791aec",
   "metadata": {},
   "outputs": [
    {
     "data": {
      "text/plain": [
       "Text(0, 0.5, 'Number of students')"
      ]
     },
     "execution_count": 313,
     "metadata": {},
     "output_type": "execute_result"
    },
    {
     "data": {
      "image/png": "[encoded data removed]",
      "text/plain": [
       "<Figure size 432x288 with 1 Axes>"
      ]
     },
     "metadata": {
      "needs_background": "light"
     },
     "output_type": "display_data"
    }
   ],
   "source": [
    "sns.countplot(x='Fjob',hue='passed',order = student_mat['Fjob'].value_counts().index,data=student_mat)\n",
    "plt.ylabel('Number of students')"
   ]
  },
  {
   "cell_type": "code",
   "execution_count": 314,
   "id": "c2e172d5",
   "metadata": {},
   "outputs": [
    {
     "data": {
      "text/plain": [
       "Text(0, 0.5, 'Number of students')"
      ]
     },
     "execution_count": 314,
     "metadata": {},
     "output_type": "execute_result"
    },
    {
     "data": {
      "image/png": "[encoded data removed]",
      "text/plain": [
       "<Figure size 432x288 with 1 Axes>"
      ]
     },
     "metadata": {
      "needs_background": "light"
     },
     "output_type": "display_data"
    }
   ],
   "source": [
    "sns.countplot(x='Mjob',hue='passed',order = student_mat['Mjob'].value_counts().index,data=student_mat)\n",
    "plt.ylabel('Number of students')"
   ]
  },
  {
   "cell_type": "code",
   "execution_count": 316,
   "id": "6312a4c8",
   "metadata": {},
   "outputs": [
    {
     "data": {
      "text/plain": [
       "Text(0, 0.5, 'Number of students')"
      ]
     },
     "execution_count": 316,
     "metadata": {},
     "output_type": "execute_result"
    },
    {
     "data": {
      "image/png": "[encoded data removed]",
      "text/plain": [
       "<Figure size 432x288 with 1 Axes>"
      ]
     },
     "metadata": {
      "needs_background": "light"
     },
     "output_type": "display_data"
    }
   ],
   "source": [
    "sns.countplot(x='Studytime_cat',hue='passed',order = student_mat['Studytime_cat'].value_counts().index,data=student_mat)\n",
    "plt.ylabel('Number of students')"
   ]
  },
  {
   "cell_type": "code",
   "execution_count": 323,
   "id": "d866ac61",
   "metadata": {},
   "outputs": [
    {
     "data": {
      "text/plain": [
       "Text(0, 0.5, 'Number of students')"
      ]
     },
     "execution_count": 323,
     "metadata": {},
     "output_type": "execute_result"
    },
    {
     "data": {
      "image/png": "[encoded data removed]",
      "text/plain": [
       "<Figure size 432x288 with 1 Axes>"
      ]
     },
     "metadata": {
      "needs_background": "light"
     },
     "output_type": "display_data"
    }
   ],
   "source": [
    "sns.countplot(x='traveltime_cat',hue='passed',order = student_mat['traveltime_cat'].value_counts().index,data=student_mat)\n",
    "plt.ylabel('Number of students')"
   ]
  },
  {
   "cell_type": "code",
   "execution_count": 317,
   "id": "593d2cb6",
   "metadata": {},
   "outputs": [
    {
     "data": {
      "text/plain": [
       "Index(['school', 'sex', 'age', 'address', 'famsize', 'Pstatus', 'Medu', 'Fedu',\n",
       "       'Mjob', 'Fjob', 'reason', 'guardian', 'traveltime', 'studytime',\n",
       "       'failures', 'schoolsup', 'famsup', 'paid', 'activities', 'nursery',\n",
       "       'higher', 'internet', 'romantic', 'famrel', 'freetime', 'goout', 'Dalc',\n",
       "       'Walc', 'health', 'absences', 'G1', 'G2', 'G3', 'Medu_cat', 'Fedu_cat',\n",
       "       'traveltime_cat', 'Studytime_cat', 'Famrel_cat', 'freetime_cat',\n",
       "       'goout_cat', 'Dalc_cat', 'Walc_cat', 'health_cat', 'passed'],\n",
       "      dtype='object')"
      ]
     },
     "execution_count": 317,
     "metadata": {},
     "output_type": "execute_result"
    }
   ],
   "source": [
    "student_mat.columns"
   ]
  },
  {
   "cell_type": "code",
   "execution_count": 320,
   "id": "976b6487",
   "metadata": {},
   "outputs": [
    {
     "data": {
      "text/plain": [
       "Text(0, 0.5, 'Number of students')"
      ]
     },
     "execution_count": 320,
     "metadata": {},
     "output_type": "execute_result"
    },
    {
     "data": {
      "image/png": "[encoded data removed]",
      "text/plain": [
       "<Figure size 432x288 with 1 Axes>"
      ]
     },
     "metadata": {
      "needs_background": "light"
     },
     "output_type": "display_data"
    }
   ],
   "source": [
    "plt.xticks(rotation = 90)\n",
    "sns.countplot(x='Fedu_cat',hue='passed',order = student_mat['Fedu_cat'].value_counts().index,data=student_mat)\n",
    "plt.ylabel('Number of students')"
   ]
  },
  {
   "cell_type": "code",
   "execution_count": 321,
   "id": "5c65e69b",
   "metadata": {},
   "outputs": [
    {
     "data": {
      "text/plain": [
       "Text(0, 0.5, 'Number of students')"
      ]
     },
     "execution_count": 321,
     "metadata": {},
     "output_type": "execute_result"
    },
    {
     "data": {
      "image/png": "[encoded data removed]",
      "text/plain": [
       "<Figure size 432x288 with 1 Axes>"
      ]
     },
     "metadata": {
      "needs_background": "light"
     },
     "output_type": "display_data"
    }
   ],
   "source": [
    "plt.xticks(rotation = 90)\n",
    "sns.countplot(x='Medu_cat',hue='passed',order = student_mat['Medu_cat'].value_counts().index,data=student_mat)\n",
    "plt.ylabel('Number of students')"
   ]
  },
  {
   "cell_type": "code",
   "execution_count": 324,
   "id": "7c748538",
   "metadata": {},
   "outputs": [
    {
     "data": {
      "text/plain": [
       "Text(0, 0.5, 'Number of students')"
      ]
     },
     "execution_count": 324,
     "metadata": {},
     "output_type": "execute_result"
    },
    {
     "data": {
      "image/png": "[encoded data removed]",
      "text/plain": [
       "<Figure size 432x288 with 1 Axes>"
      ]
     },
     "metadata": {
      "needs_background": "light"
     },
     "output_type": "display_data"
    }
   ],
   "source": [
    "sns.countplot(x='Famrel_cat',hue='passed',order = student_mat['Famrel_cat'].value_counts().index,data=student_mat)\n",
    "plt.ylabel('Number of students')"
   ]
  },
  {
   "cell_type": "code",
   "execution_count": 325,
   "id": "39f07c36",
   "metadata": {},
   "outputs": [
    {
     "data": {
      "text/plain": [
       "Text(0, 0.5, 'Number of students')"
      ]
     },
     "execution_count": 325,
     "metadata": {},
     "output_type": "execute_result"
    },
    {
     "data": {
      "image/png": "[encoded data removed]",
      "text/plain": [
       "<Figure size 432x288 with 1 Axes>"
      ]
     },
     "metadata": {
      "needs_background": "light"
     },
     "output_type": "display_data"
    }
   ],
   "source": [
    "sns.countplot(x='Dalc_cat',hue='passed',order = student_mat['Dalc_cat'].value_counts().index,data=student_mat)\n",
    "plt.ylabel('Number of students')"
   ]
  },
  {
   "cell_type": "code",
   "execution_count": 326,
   "id": "94d8d37d",
   "metadata": {},
   "outputs": [
    {
     "data": {
      "text/plain": [
       "Text(0, 0.5, 'Number of students')"
      ]
     },
     "execution_count": 326,
     "metadata": {},
     "output_type": "execute_result"
    },
    {
     "data": {
      "image/png": "[encoded data removed]",
      "text/plain": [
       "<Figure size 432x288 with 1 Axes>"
      ]
     },
     "metadata": {
      "needs_background": "light"
     },
     "output_type": "display_data"
    }
   ],
   "source": [
    "sns.countplot(x='Dalc_cat',hue='passed',order = student_mat['Dalc_cat'].value_counts().index,data=student_mat)\n",
    "plt.ylabel('Number of students')"
   ]
  },
  {
   "cell_type": "code",
   "execution_count": 327,
   "id": "d880278d",
   "metadata": {},
   "outputs": [
    {
     "data": {
      "text/plain": [
       "Text(0, 0.5, 'Number of students')"
      ]
     },
     "execution_count": 327,
     "metadata": {},
     "output_type": "execute_result"
    },
    {
     "data": {
      "image/png": "[encoded data removed]",
      "text/plain": [
       "<Figure size 432x288 with 1 Axes>"
      ]
     },
     "metadata": {
      "needs_background": "light"
     },
     "output_type": "display_data"
    }
   ],
   "source": [
    "sns.countplot(x='health_cat',hue='passed',order = student_mat['health_cat'].value_counts().index,data=student_mat)\n",
    "plt.ylabel('Number of students')"
   ]
  },
  {
   "cell_type": "code",
   "execution_count": 328,
   "id": "23ddfb38",
   "metadata": {},
   "outputs": [
    {
     "data": {
      "text/plain": [
       "Text(0, 0.5, 'Number of students')"
      ]
     },
     "execution_count": 328,
     "metadata": {},
     "output_type": "execute_result"
    },
    {
     "data": {
      "image/png": "[encoded data removed]",
      "text/plain": [
       "<Figure size 432x288 with 1 Axes>"
      ]
     },
     "metadata": {
      "needs_background": "light"
     },
     "output_type": "display_data"
    }
   ],
   "source": [
    "sns.countplot(x='goout_cat',hue='passed',order = student_mat['goout_cat'].value_counts().index,data=student_mat)\n",
    "plt.ylabel('Number of students')"
   ]
  },
  {
   "cell_type": "code",
   "execution_count": 329,
   "id": "404def82",
   "metadata": {},
   "outputs": [
    {
     "data": {
      "text/plain": [
       "Text(0, 0.5, 'Number of students')"
      ]
     },
     "execution_count": 329,
     "metadata": {},
     "output_type": "execute_result"
    },
    {
     "data": {
      "image/png": "[encoded data removed]",
      "text/plain": [
       "<Figure size 432x288 with 1 Axes>"
      ]
     },
     "metadata": {
      "needs_background": "light"
     },
     "output_type": "display_data"
    }
   ],
   "source": [
    "\n",
    "sns.countplot(x='freetime_cat',hue='passed',order = student_mat['freetime_cat'].value_counts().index,data=student_mat)\n",
    "plt.ylabel('Number of students')"
   ]
  },
  {
   "cell_type": "code",
   "execution_count": 330,
   "id": "525d8d8c",
   "metadata": {},
   "outputs": [
    {
     "data": {
      "text/plain": [
       "Text(0, 0.5, 'Number of students')"
      ]
     },
     "execution_count": 330,
     "metadata": {},
     "output_type": "execute_result"
    },
    {
     "data": {
      "image/png": "[encoded data removed]",
      "text/plain": [
       "<Figure size 432x288 with 1 Axes>"
      ]
     },
     "metadata": {
      "needs_background": "light"
     },
     "output_type": "display_data"
    }
   ],
   "source": [
    "sns.countplot(x='internet',hue='passed',order = student_mat['internet'].value_counts().index,data=student_mat)\n",
    "plt.ylabel('Number of students')"
   ]
  }
 ],
 "metadata": {
  "kernelspec": {
   "display_name": "Python 3 (ipykernel)",
   "language": "python",
   "name": "python3"
  },
  "language_info": {
   "codemirror_mode": {
    "name": "ipython",
    "version": 3
   },
   "file_extension": ".py",
   "mimetype": "text/x-python",
   "name": "python",
   "nbconvert_exporter": "python",
   "pygments_lexer": "ipython3",
   "version": "3.9.7"
  }
 },
 "nbformat": 4,
 "nbformat_minor": 5
}
